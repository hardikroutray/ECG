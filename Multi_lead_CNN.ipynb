{
  "nbformat": 4,
  "nbformat_minor": 0,
  "metadata": {
    "colab": {
      "name": "Multi_lead_CNN.ipynb",
      "provenance": [],
      "collapsed_sections": [],
      "authorship_tag": "ABX9TyPt71+F1bF6jL/rFq0ohH7N",
      "include_colab_link": true
    },
    "kernelspec": {
      "name": "python3",
      "display_name": "Python 3"
    },
    "language_info": {
      "name": "python"
    }
  },
  "cells": [
    {
      "cell_type": "markdown",
      "metadata": {
        "id": "view-in-github",
        "colab_type": "text"
      },
      "source": [
        "<a href=\"https://colab.research.google.com/github/hardikroutray/ECG/blob/main/Multi_lead_CNN.ipynb\" target=\"_parent\"><img src=\"https://colab.research.google.com/assets/colab-badge.svg\" alt=\"Open In Colab\"/></a>"
      ]
    },
    {
      "cell_type": "code",
      "metadata": {
        "id": "g4s82uBJWlj7",
        "colab": {
          "base_uri": "https://localhost:8080/"
        },
        "outputId": "6427ca10-0c18-4602-9c3c-29eb31b101bc"
      },
      "source": [
        "import pandas as pd\n",
        "import numpy as np\n",
        "import matplotlib as plt\n",
        "import matplotlib.pyplot as plt\n",
        "import seaborn as sn\n",
        "%matplotlib inline\n",
        "%pylab inline\n",
        "%config InlineBackend.figure_formats = ['retina']\n",
        "from imutils import paths\n",
        "import time   # time1 = time.time(); print('Time taken: {:.1f} sec'.format(time.time() - time1))\n",
        "import cv2\n",
        "import pickle\n",
        "import warnings\n",
        "warnings.filterwarnings(\"ignore\")\n",
        "import pickle\n"
      ],
      "execution_count": null,
      "outputs": [
        {
          "output_type": "stream",
          "text": [
            "Populating the interactive namespace from numpy and matplotlib\n"
          ],
          "name": "stdout"
        }
      ]
    },
    {
      "cell_type": "code",
      "metadata": {
        "id": "pluEuqpFYD0V"
      },
      "source": [
        "\n",
        "import keras\n",
        "import keras.utils\n",
        "from keras.models import Sequential\n",
        "from keras.layers import Dense, Dropout, Flatten\n",
        "from keras.layers import Conv2D, MaxPooling2D\n",
        "from keras.optimizers import Adam\n",
        "\n",
        "from tensorflow.keras import utils as np_utils\n",
        "\n",
        "from tensorflow.keras.utils import to_categorical\n",
        "from keras.preprocessing import image\n",
        "from sklearn.model_selection import train_test_split\n",
        "\n",
        "from tqdm import tqdm\n",
        "from sklearn.metrics import plot_confusion_matrix\n",
        "from sklearn.model_selection import train_test_split\n"
      ],
      "execution_count": null,
      "outputs": []
    },
    {
      "cell_type": "code",
      "metadata": {
        "id": "cwJWpDYHJ0Fs"
      },
      "source": [
        "from tensorflow import keras \n",
        "from tensorflow.keras.models import Model\n",
        "from tensorflow.keras.models import Sequential\n",
        "from tensorflow.keras.layers import Conv1D\n",
        "from tensorflow.keras.layers import Convolution1D, ZeroPadding1D, MaxPooling1D, BatchNormalization, Activation, Dropout, Flatten, Dense"
      ],
      "execution_count": null,
      "outputs": []
    },
    {
      "cell_type": "code",
      "metadata": {
        "colab": {
          "base_uri": "https://localhost:8080/"
        },
        "id": "JSElyJujYOGQ",
        "outputId": "58e7bedf-02d3-4a7c-8552-1547517f36fa"
      },
      "source": [
        "from google.colab import drive\n",
        "drive.mount._DEBUG = True\n",
        "drive.mount('/content/MyDrive', force_remount=True)"
      ],
      "execution_count": null,
      "outputs": [
        {
          "output_type": "stream",
          "text": [
            "unset HISTFILE; export PS1=\"root@8853f9368014-e8bef2a5298943548333554ce401e648: \"\n",
            "bash: cannot set terminal process group (-1): Inappropriate ioctl for device\n",
            "bash: no job control in this shell\n",
            "\u001b[01;34m/content\u001b[00m# root@8853f9368014-e8bef2a5298943548333554ce401e648: umount -f /content/MyDrive || umount /content/MyDrive; pkill -9 -x drive\n",
            "root@8853f9368014-e8bef2a5298943548333554ce401e648: pkill -9 -f /opt/google/drive/directoryprefetcher_binary\n",
            "root@8853f9368014-e8bef2a5298943548333554ce401e648: ( while `sleep 0.5`; do if [[ -d \"/content/MyDrive\" && \"$(ls -A /content/MyDrive)\" != \"\" ]]; then echo \"google.colab.drive MOUNTED\"; break; fi; done ) &\n",
            "[1] 786\n",
            "root@8853f9368014-e8bef2a5298943548333554ce401e648: cat /tmp/tmp99cd79x9/drive.fifo | head -1 | ( /opt/google/drive/drive --features=fuse_max_background:1000,max_read_qps:1000,max_write_qps:1000,max_operation_batch_size:15,max_parallel_push_task_instances:10,opendir_timeout_ms:120000,virtual_folders_omit_spaces:true --inet_family=IPV4_ONLY --preferences=trusted_root_certs_file_path:/opt/google/drive/roots.pem,mount_point_path:/content/MyDrive --console_auth 2>&1 | grep --line-buffered -E \"(Go to this URL in a browser: https://.*)$|Drive File Stream encountered a problem and has stopped|Authorization failed|The domain policy has disabled Drive File Stream\"; echo \"drive EXITED\"; ) &\n",
            "[2] 790\n",
            "root@8853f9368014-e8bef2a5298943548333554ce401e648: google.colab.drive MOUNTED\n",
            "fuser -kw \"/root/.config/Google/DriveFS/Logs/timeouts.txt\" ; rm -rf \"/root/.config/Google/DriveFS/Logs/timeouts.txt\"\n",
            "/root/.config/Google/DriveFS/Logs/timeouts.txt:   238\n",
            "root@8853f9368014-e8bef2a5298943548333554ce401e648: nohup bash -c 'tail -n +0 -F \"/root/.config/Google/DriveFS/Logs/drive_fs.txt\" | python3 /opt/google/drive/drive-filter.py > \"/root/.config/Google/DriveFS/Logs/timeouts.txt\" ' < /dev/null > /dev/null 2>&1 &\n",
            "[3] 839\n",
            "root@8853f9368014-e8bef2a5298943548333554ce401e648: disown -a\n",
            "root@8853f9368014-e8bef2a5298943548333554ce401e648: exit\n",
            "Mounted at /content/MyDrive\n"
          ],
          "name": "stdout"
        }
      ]
    },
    {
      "cell_type": "code",
      "metadata": {
        "id": "OneI2FHXYF8H"
      },
      "source": [
        "# Enter the directory\n",
        "!cd /content/MyDrive/MyDrive/ECG/\n"
      ],
      "execution_count": null,
      "outputs": []
    },
    {
      "cell_type": "markdown",
      "metadata": {
        "id": "jALJ2MIEH3ib"
      },
      "source": [
        "# Importing any of these files is fine.\n",
        "They differ by methods of preprocessing of the CSV files"
      ]
    },
    {
      "cell_type": "code",
      "metadata": {
        "id": "DlqItrd6XNnX"
      },
      "source": [
        "\n",
        "with open('/content/MyDrive/MyDrive/ECG/dataset_dict_moise.pickle', 'rb') as file:\n",
        "    dataset_dict = pickle.load(file)\n"
      ],
      "execution_count": null,
      "outputs": []
    },
    {
      "cell_type": "code",
      "metadata": {
        "id": "NhNlh62VjOfY",
        "colab": {
          "base_uri": "https://localhost:8080/"
        },
        "outputId": "f99fb725-a5a9-4408-dddb-7a6e0f3f73ac"
      },
      "source": [
        "dataset_dict.keys()"
      ],
      "execution_count": null,
      "outputs": [
        {
          "output_type": "execute_result",
          "data": {
            "text/plain": [
              "dict_keys(['X_train', 'X_test', 'y_train', 'y_test'])"
            ]
          },
          "metadata": {
            "tags": []
          },
          "execution_count": 6
        }
      ]
    },
    {
      "cell_type": "code",
      "metadata": {
        "id": "OAKau2s0iv40"
      },
      "source": [
        "x_train1=dataset_dict['X_train']\n",
        "x_test1=dataset_dict['X_test']\n",
        "\n",
        "y_train1=dataset_dict['y_train']\n",
        "y_test1=dataset_dict['y_test']\n",
        "\n",
        "\n",
        "## For Moise data: \n",
        "\n",
        "x_train=x_train1\n",
        "x_test=x_test1\n",
        "\n",
        "y_test = to_categorical(y_test1) #[:,1:5] # Since labeling is [1,2,3,4] instead \\\n",
        "# of [0,1,2,3]\n",
        "y_train = to_categorical(y_train1) #[:,1:5] #one-hot encoding"
      ],
      "execution_count": null,
      "outputs": []
    },
    {
      "cell_type": "code",
      "metadata": {
        "colab": {
          "base_uri": "https://localhost:8080/",
          "height": 606
        },
        "id": "7Lhkt_ZjMiA0",
        "outputId": "c6417c54-3f08-47dd-ae8a-007b981cdad0"
      },
      "source": [
        "x_train"
      ],
      "execution_count": null,
      "outputs": [
        {
          "output_type": "execute_result",
          "data": {
            "text/html": [
              "<div>\n",
              "<style scoped>\n",
              "    .dataframe tbody tr th:only-of-type {\n",
              "        vertical-align: middle;\n",
              "    }\n",
              "\n",
              "    .dataframe tbody tr th {\n",
              "        vertical-align: top;\n",
              "    }\n",
              "\n",
              "    .dataframe thead th {\n",
              "        text-align: right;\n",
              "    }\n",
              "</style>\n",
              "<table border=\"1\" class=\"dataframe\">\n",
              "  <thead>\n",
              "    <tr style=\"text-align: right;\">\n",
              "      <th></th>\n",
              "      <th>Lead1</th>\n",
              "      <th>Lead2</th>\n",
              "      <th>Lead3</th>\n",
              "      <th>Lead4</th>\n",
              "      <th>Lead5</th>\n",
              "      <th>Lead6</th>\n",
              "      <th>Lead7</th>\n",
              "      <th>Lead8</th>\n",
              "      <th>Lead9</th>\n",
              "      <th>Lead10</th>\n",
              "      <th>Lead11</th>\n",
              "      <th>Lead12</th>\n",
              "    </tr>\n",
              "  </thead>\n",
              "  <tbody>\n",
              "    <tr>\n",
              "      <th>309</th>\n",
              "      <td>0      138.0\n",
              "1      140.5\n",
              "2      143.5\n",
              "3      ...</td>\n",
              "      <td>0      100.0\n",
              "1       89.5\n",
              "2       88.5\n",
              "3      ...</td>\n",
              "      <td>0       96.5\n",
              "1       96.0\n",
              "2      101.0\n",
              "3      ...</td>\n",
              "      <td>0       40.0\n",
              "1       33.0\n",
              "2       66.5\n",
              "3      ...</td>\n",
              "      <td>0      108.50\n",
              "1       98.00\n",
              "2      113.00\n",
              "3   ...</td>\n",
              "      <td>0      156.0\n",
              "1      155.0\n",
              "2      156.5\n",
              "3      ...</td>\n",
              "      <td>0      125.535714\n",
              "1      147.666667\n",
              "2      139...</td>\n",
              "      <td>0      133.0\n",
              "1      135.5\n",
              "2      131.5\n",
              "3      ...</td>\n",
              "      <td>0      107.5\n",
              "1       97.5\n",
              "2      123.0\n",
              "3      ...</td>\n",
              "      <td>0      140.5\n",
              "1      139.5\n",
              "2      146.0\n",
              "3      ...</td>\n",
              "      <td>0      153.0\n",
              "1      150.5\n",
              "2      162.5\n",
              "3      ...</td>\n",
              "      <td>0      101.0\n",
              "1      100.5\n",
              "2      110.0\n",
              "3      ...</td>\n",
              "    </tr>\n",
              "    <tr>\n",
              "      <th>1108</th>\n",
              "      <td>0      124.5\n",
              "1      115.0\n",
              "2      116.5\n",
              "3      ...</td>\n",
              "      <td>0      101.0\n",
              "1      101.5\n",
              "2      102.5\n",
              "3      ...</td>\n",
              "      <td>0      107.0\n",
              "1      107.0\n",
              "2      109.0\n",
              "3      ...</td>\n",
              "      <td>0       25.5\n",
              "1       22.5\n",
              "2       40.5\n",
              "3      ...</td>\n",
              "      <td>0      106.5\n",
              "1      112.5\n",
              "2      117.5\n",
              "3      ...</td>\n",
              "      <td>0      135.0\n",
              "1      145.0\n",
              "2      138.5\n",
              "3      ...</td>\n",
              "      <td>0      145.148148\n",
              "1        6.000000\n",
              "2        6...</td>\n",
              "      <td>0      123.5\n",
              "1      111.0\n",
              "2      114.0\n",
              "3      ...</td>\n",
              "      <td>0      165.428571\n",
              "1      165.875000\n",
              "2      154...</td>\n",
              "      <td>0      130.0\n",
              "1      132.0\n",
              "2      133.0\n",
              "3      ...</td>\n",
              "      <td>0       89.5\n",
              "1       92.5\n",
              "2      102.5\n",
              "3      ...</td>\n",
              "      <td>0      135.0\n",
              "1      128.5\n",
              "2      125.0\n",
              "3      ...</td>\n",
              "    </tr>\n",
              "    <tr>\n",
              "      <th>647</th>\n",
              "      <td>0      65.000000\n",
              "1      56.000000\n",
              "2      58.85...</td>\n",
              "      <td>0      80.0\n",
              "1      80.0\n",
              "2      80.0\n",
              "3      81....</td>\n",
              "      <td>0      45.000000\n",
              "1      44.500000\n",
              "2      46.00...</td>\n",
              "      <td>0      40.500000\n",
              "1      51.914286\n",
              "2      45.92...</td>\n",
              "      <td>0       77.000000\n",
              "1       78.555556\n",
              "2       78...</td>\n",
              "      <td>0      45.500000\n",
              "1      50.200000\n",
              "2      46.00...</td>\n",
              "      <td>0       78.000000\n",
              "1       82.000000\n",
              "2       76...</td>\n",
              "      <td>0      54.636364\n",
              "1      58.500000\n",
              "2      62.12...</td>\n",
              "      <td>0      133.500000\n",
              "1      133.500000\n",
              "2      133...</td>\n",
              "      <td>0       73.000000\n",
              "1       75.000000\n",
              "2       75...</td>\n",
              "      <td>0      68.333333\n",
              "1      57.500000\n",
              "2      59.09...</td>\n",
              "      <td>0       74.631579\n",
              "1       76.466667\n",
              "2       79...</td>\n",
              "    </tr>\n",
              "    <tr>\n",
              "      <th>863</th>\n",
              "      <td>0      157.666667\n",
              "1      157.666667\n",
              "2      149...</td>\n",
              "      <td>0      105.0\n",
              "1      109.5\n",
              "2      102.5\n",
              "3      ...</td>\n",
              "      <td>0      104.0\n",
              "1      112.5\n",
              "2      104.5\n",
              "3      ...</td>\n",
              "      <td>0       52.0\n",
              "1       76.0\n",
              "2       58.0\n",
              "3      ...</td>\n",
              "      <td>0      124.5\n",
              "1      120.5\n",
              "2      128.5\n",
              "3      ...</td>\n",
              "      <td>0      118.333333\n",
              "1      125.500000\n",
              "2      128...</td>\n",
              "      <td>0      113.5\n",
              "1      120.0\n",
              "2      151.0\n",
              "3      ...</td>\n",
              "      <td>0       92.5\n",
              "1       94.0\n",
              "2      109.5\n",
              "3      ...</td>\n",
              "      <td>0      120.0\n",
              "1      120.0\n",
              "2      126.5\n",
              "3      ...</td>\n",
              "      <td>0      150.0\n",
              "1      153.5\n",
              "2      145.5\n",
              "3      ...</td>\n",
              "      <td>0      144.0\n",
              "1      137.5\n",
              "2      145.5\n",
              "3      ...</td>\n",
              "      <td>0      127.888889\n",
              "1      126.962963\n",
              "2      133...</td>\n",
              "    </tr>\n",
              "    <tr>\n",
              "      <th>207</th>\n",
              "      <td>0      122.0\n",
              "1      130.0\n",
              "2      130.0\n",
              "3      ...</td>\n",
              "      <td>0       97.5\n",
              "1       92.0\n",
              "2       93.0\n",
              "3      ...</td>\n",
              "      <td>0       85.000000\n",
              "1       80.500000\n",
              "2       86...</td>\n",
              "      <td>0       34.0\n",
              "1       33.0\n",
              "2       63.0\n",
              "3      ...</td>\n",
              "      <td>0       83.50\n",
              "1       85.00\n",
              "2       94.04\n",
              "3   ...</td>\n",
              "      <td>0      117.5\n",
              "1      113.5\n",
              "2      122.5\n",
              "3      ...</td>\n",
              "      <td>0      157.818182\n",
              "1      144.714286\n",
              "2      122...</td>\n",
              "      <td>0      104.5\n",
              "1       93.0\n",
              "2      113.5\n",
              "3      ...</td>\n",
              "      <td>0      116.5\n",
              "1      106.5\n",
              "2      128.5\n",
              "3      ...</td>\n",
              "      <td>0      147.0\n",
              "1      145.0\n",
              "2      149.0\n",
              "3      ...</td>\n",
              "      <td>0      153.781022\n",
              "1      141.024793\n",
              "2       22...</td>\n",
              "      <td>0      106.0\n",
              "1      101.5\n",
              "2      113.5\n",
              "3      ...</td>\n",
              "    </tr>\n",
              "    <tr>\n",
              "      <th>...</th>\n",
              "      <td>...</td>\n",
              "      <td>...</td>\n",
              "      <td>...</td>\n",
              "      <td>...</td>\n",
              "      <td>...</td>\n",
              "      <td>...</td>\n",
              "      <td>...</td>\n",
              "      <td>...</td>\n",
              "      <td>...</td>\n",
              "      <td>...</td>\n",
              "      <td>...</td>\n",
              "      <td>...</td>\n",
              "    </tr>\n",
              "    <tr>\n",
              "      <th>449</th>\n",
              "      <td>0      40.625\n",
              "1      39.500\n",
              "2      40.500\n",
              "3   ...</td>\n",
              "      <td>0      86.500000\n",
              "1      86.833333\n",
              "2      87.60...</td>\n",
              "      <td>0      97.875\n",
              "1      92.250\n",
              "2      80.000\n",
              "3   ...</td>\n",
              "      <td>0      15.000000\n",
              "1      55.625000\n",
              "2      15.50...</td>\n",
              "      <td>0       71.500000\n",
              "1       80.166667\n",
              "2       68...</td>\n",
              "      <td>0      52.500000\n",
              "1      55.000000\n",
              "2      54.50...</td>\n",
              "      <td>0      125.000000\n",
              "1      137.666667\n",
              "2      124...</td>\n",
              "      <td>0      43.0\n",
              "1      46.0\n",
              "2      51.5\n",
              "3      46....</td>\n",
              "      <td>0      104.5\n",
              "1      104.5\n",
              "2      103.5\n",
              "3      ...</td>\n",
              "      <td>0      72.5\n",
              "1      72.0\n",
              "2      73.2\n",
              "3      72....</td>\n",
              "      <td>0      61.521739\n",
              "1      55.219512\n",
              "2      63.29...</td>\n",
              "      <td>0      62.500000\n",
              "1      63.000000\n",
              "2      65.00...</td>\n",
              "    </tr>\n",
              "    <tr>\n",
              "      <th>411</th>\n",
              "      <td>0      39.666667\n",
              "1      38.500000\n",
              "2      39.50...</td>\n",
              "      <td>0      79.500000\n",
              "1      86.500000\n",
              "2      83.50...</td>\n",
              "      <td>0      103.833333\n",
              "1       77.555556\n",
              "2       71...</td>\n",
              "      <td>0      67.0\n",
              "1      66.5\n",
              "2      67.5\n",
              "3      68....</td>\n",
              "      <td>0       96.400000\n",
              "1       86.736842\n",
              "2       86...</td>\n",
              "      <td>0      51.000000\n",
              "1      52.000000\n",
              "2      51.00...</td>\n",
              "      <td>0       73.500000\n",
              "1       83.642857\n",
              "2       85...</td>\n",
              "      <td>0      14.000000\n",
              "1      55.171429\n",
              "2      13.00...</td>\n",
              "      <td>0      102.5\n",
              "1      104.5\n",
              "2      111.0\n",
              "3      ...</td>\n",
              "      <td>0       78.125000\n",
              "1       87.000000\n",
              "2      100...</td>\n",
              "      <td>0       86.416667\n",
              "1       94.962963\n",
              "2       88...</td>\n",
              "      <td>0      52.000000\n",
              "1      52.000000\n",
              "2      62.38...</td>\n",
              "    </tr>\n",
              "    <tr>\n",
              "      <th>686</th>\n",
              "      <td>0      130.5\n",
              "1      132.5\n",
              "2      136.5\n",
              "3      ...</td>\n",
              "      <td>0       99.250000\n",
              "1       90.352941\n",
              "2       88...</td>\n",
              "      <td>0      104.5\n",
              "1      109.0\n",
              "2      106.5\n",
              "3      ...</td>\n",
              "      <td>0       58.0\n",
              "1       80.0\n",
              "2       69.0\n",
              "3      ...</td>\n",
              "      <td>0      116.0\n",
              "1      102.0\n",
              "2      108.0\n",
              "3      ...</td>\n",
              "      <td>0      157.5\n",
              "1      160.5\n",
              "2      165.5\n",
              "3      ...</td>\n",
              "      <td>0      142.000000\n",
              "1      140.333333\n",
              "2      110...</td>\n",
              "      <td>0      107.0\n",
              "1      119.0\n",
              "2      116.0\n",
              "3      ...</td>\n",
              "      <td>0      135.285714\n",
              "1      159.142857\n",
              "2      159...</td>\n",
              "      <td>0      156.5\n",
              "1      156.5\n",
              "2      156.0\n",
              "3      ...</td>\n",
              "      <td>0      130.0\n",
              "1      124.5\n",
              "2      147.0\n",
              "3      ...</td>\n",
              "      <td>0      109.5\n",
              "1      128.5\n",
              "2      120.5\n",
              "3      ...</td>\n",
              "    </tr>\n",
              "    <tr>\n",
              "      <th>461</th>\n",
              "      <td>0      68.5\n",
              "1      54.0\n",
              "2      60.5\n",
              "3      65....</td>\n",
              "      <td>0      61.000000\n",
              "1      52.000000\n",
              "2      56.27...</td>\n",
              "      <td>0      84.0\n",
              "1      84.0\n",
              "2      83.5\n",
              "3      84....</td>\n",
              "      <td>0      40.500\n",
              "1      43.500\n",
              "2      48.625\n",
              "3   ...</td>\n",
              "      <td>0      65.086957\n",
              "1      69.357143\n",
              "2      67.50...</td>\n",
              "      <td>0      44.50000\n",
              "1      38.60000\n",
              "2      41.0800...</td>\n",
              "      <td>0       63.823529\n",
              "1       57.500000\n",
              "2       63...</td>\n",
              "      <td>0      70.235294\n",
              "1      69.000000\n",
              "2      78.13...</td>\n",
              "      <td>0      68.5\n",
              "1      70.5\n",
              "2      69.5\n",
              "3      71....</td>\n",
              "      <td>0       98.0\n",
              "1      101.5\n",
              "2       99.0\n",
              "3      ...</td>\n",
              "      <td>0       77.500000\n",
              "1       79.000000\n",
              "2       85...</td>\n",
              "      <td>0       60.5\n",
              "1       37.0\n",
              "2       65.0\n",
              "3      ...</td>\n",
              "    </tr>\n",
              "    <tr>\n",
              "      <th>727</th>\n",
              "      <td>0      119.5\n",
              "1      105.5\n",
              "2      112.0\n",
              "3      ...</td>\n",
              "      <td>0      101.111111\n",
              "1      107.000000\n",
              "2      106...</td>\n",
              "      <td>0      104.5\n",
              "1      104.5\n",
              "2      104.5\n",
              "3      ...</td>\n",
              "      <td>0       51.5\n",
              "1       48.0\n",
              "2       66.5\n",
              "3      ...</td>\n",
              "      <td>0      114.375000\n",
              "1      142.965517\n",
              "2      138...</td>\n",
              "      <td>0      119.0\n",
              "1      118.0\n",
              "2      119.0\n",
              "3      ...</td>\n",
              "      <td>0       83.0\n",
              "1       75.0\n",
              "2      102.0\n",
              "3      ...</td>\n",
              "      <td>0      110.0\n",
              "1       97.5\n",
              "2      104.5\n",
              "3      ...</td>\n",
              "      <td>0      140.875000\n",
              "1      143.500000\n",
              "2      140...</td>\n",
              "      <td>0      155.5\n",
              "1      161.5\n",
              "2      151.0\n",
              "3      ...</td>\n",
              "      <td>0      128.0\n",
              "1      132.5\n",
              "2      136.5\n",
              "3      ...</td>\n",
              "      <td>0      135.0\n",
              "1      125.5\n",
              "2      130.0\n",
              "3      ...</td>\n",
              "    </tr>\n",
              "  </tbody>\n",
              "</table>\n",
              "<p>883 rows × 12 columns</p>\n",
              "</div>"
            ],
            "text/plain": [
              "                                                  Lead1  ...                                             Lead12\n",
              "309   0      138.0\n",
              "1      140.5\n",
              "2      143.5\n",
              "3      ...  ...  0      101.0\n",
              "1      100.5\n",
              "2      110.0\n",
              "3      ...\n",
              "1108  0      124.5\n",
              "1      115.0\n",
              "2      116.5\n",
              "3      ...  ...  0      135.0\n",
              "1      128.5\n",
              "2      125.0\n",
              "3      ...\n",
              "647   0      65.000000\n",
              "1      56.000000\n",
              "2      58.85...  ...  0       74.631579\n",
              "1       76.466667\n",
              "2       79...\n",
              "863   0      157.666667\n",
              "1      157.666667\n",
              "2      149...  ...  0      127.888889\n",
              "1      126.962963\n",
              "2      133...\n",
              "207   0      122.0\n",
              "1      130.0\n",
              "2      130.0\n",
              "3      ...  ...  0      106.0\n",
              "1      101.5\n",
              "2      113.5\n",
              "3      ...\n",
              "...                                                 ...  ...                                                ...\n",
              "449   0      40.625\n",
              "1      39.500\n",
              "2      40.500\n",
              "3   ...  ...  0      62.500000\n",
              "1      63.000000\n",
              "2      65.00...\n",
              "411   0      39.666667\n",
              "1      38.500000\n",
              "2      39.50...  ...  0      52.000000\n",
              "1      52.000000\n",
              "2      62.38...\n",
              "686   0      130.5\n",
              "1      132.5\n",
              "2      136.5\n",
              "3      ...  ...  0      109.5\n",
              "1      128.5\n",
              "2      120.5\n",
              "3      ...\n",
              "461   0      68.5\n",
              "1      54.0\n",
              "2      60.5\n",
              "3      65....  ...  0       60.5\n",
              "1       37.0\n",
              "2       65.0\n",
              "3      ...\n",
              "727   0      119.5\n",
              "1      105.5\n",
              "2      112.0\n",
              "3      ...  ...  0      135.0\n",
              "1      125.5\n",
              "2      130.0\n",
              "3      ...\n",
              "\n",
              "[883 rows x 12 columns]"
            ]
          },
          "metadata": {
            "tags": []
          },
          "execution_count": 8
        }
      ]
    },
    {
      "cell_type": "code",
      "metadata": {
        "colab": {
          "base_uri": "https://localhost:8080/"
        },
        "id": "kpKGfjGhMQpy",
        "outputId": "46d2c325-30ab-43cb-a390-ead8aec74529"
      },
      "source": [
        "x_train.iloc[0,0]"
      ],
      "execution_count": null,
      "outputs": [
        {
          "output_type": "execute_result",
          "data": {
            "text/plain": [
              "0      138.0\n",
              "1      140.5\n",
              "2      143.5\n",
              "3      144.0\n",
              "4      144.5\n",
              "       ...  \n",
              "130    163.5\n",
              "131    163.5\n",
              "132    163.0\n",
              "133    163.0\n",
              "134    163.0\n",
              "Length: 135, dtype: float64"
            ]
          },
          "metadata": {
            "tags": []
          },
          "execution_count": 33
        }
      ]
    },
    {
      "cell_type": "code",
      "metadata": {
        "colab": {
          "base_uri": "https://localhost:8080/"
        },
        "id": "ZWI40p5tLNZY",
        "outputId": "5ddb6cd9-271a-45ff-b9e5-a33c94583234"
      },
      "source": [
        "from sktime.utils.data_processing import from_nested_to_3d_numpy\n",
        "\n",
        "np_xtrain= from_nested_to_3d_numpy(x_train)\n",
        "\n",
        "np_xtest= from_nested_to_3d_numpy(x_test)\n",
        "#type(x_train)\n",
        "np_xtrain.shape"
      ],
      "execution_count": null,
      "outputs": [
        {
          "output_type": "execute_result",
          "data": {
            "text/plain": [
              "(883, 12, 135)"
            ]
          },
          "metadata": {
            "tags": []
          },
          "execution_count": 15
        }
      ]
    },
    {
      "cell_type": "code",
      "metadata": {
        "colab": {
          "base_uri": "https://localhost:8080/"
        },
        "id": "ZM7Nq0I1SSEx",
        "outputId": "532a16ce-d6a0-4244-a6a0-30667e49b3db"
      },
      "source": [
        "np_xtest.shape"
      ],
      "execution_count": null,
      "outputs": [
        {
          "output_type": "execute_result",
          "data": {
            "text/plain": [
              "(295, 12, 135)"
            ]
          },
          "metadata": {
            "tags": []
          },
          "execution_count": 17
        }
      ]
    },
    {
      "cell_type": "code",
      "metadata": {
        "id": "6Qyo5Oo0RwUP"
      },
      "source": [
        "x_train=np_xtrain.reshape(x_train.shape[0],np_xtrain.shape[1]*np_xtrain.shape[2],1)\n",
        "x_test=np_xtest.reshape(x_test.shape[0],np_xtest.shape[1]*np_xtest.shape[2],1)"
      ],
      "execution_count": null,
      "outputs": []
    },
    {
      "cell_type": "code",
      "metadata": {
        "colab": {
          "base_uri": "https://localhost:8080/"
        },
        "id": "_RqaloObL1zx",
        "outputId": "b347dfa8-f982-4364-8548-1f9a03107607"
      },
      "source": [
        "x_train.shape"
      ],
      "execution_count": null,
      "outputs": [
        {
          "output_type": "execute_result",
          "data": {
            "text/plain": [
              "(883, 12)"
            ]
          },
          "metadata": {
            "tags": []
          },
          "execution_count": 13
        }
      ]
    },
    {
      "cell_type": "code",
      "metadata": {
        "colab": {
          "base_uri": "https://localhost:8080/"
        },
        "id": "sm9VxhaHKrvJ",
        "outputId": "d57f68e2-6e16-48f2-e387-f94b3286c7e7"
      },
      "source": [
        "y_test.shape"
      ],
      "execution_count": null,
      "outputs": [
        {
          "output_type": "execute_result",
          "data": {
            "text/plain": [
              "(295, 5)"
            ]
          },
          "metadata": {
            "tags": []
          },
          "execution_count": 19
        }
      ]
    },
    {
      "cell_type": "markdown",
      "metadata": {
        "id": "uv-ZsQniIHqO"
      },
      "source": [
        "Plotting an example to see if the coarse grained reconstruction looks reasonable. "
      ]
    },
    {
      "cell_type": "markdown",
      "metadata": {
        "id": "-c3Ix3bpIc-o"
      },
      "source": [
        "# Model \n",
        "1d CNN <br>\n",
        "https://towardsdatascience.com/understanding-1d-and-3d-convolution-neural-network-keras-9d8f76e29610\n",
        "\n"
      ]
    },
    {
      "cell_type": "code",
      "metadata": {
        "id": "uUAeR8Q8_q92",
        "colab": {
          "base_uri": "https://localhost:8080/"
        },
        "outputId": "4b95a8e6-1d92-4601-8cfd-6a36903e9f1e"
      },
      "source": [
        "# Earlier (128)\n",
        "\n",
        "num_classes=5\n",
        "\n",
        "model_m = Sequential()\n",
        "input_shape=(x_train.shape[1], 1)\n",
        "model_m.add(Conv1D(128, kernel_size=3,padding = 'same',activation='relu', input_shape=input_shape))\n",
        "\n",
        "model_m.add(BatchNormalization())\n",
        "\n",
        "model_m.add(MaxPooling1D(pool_size=(2)))\n",
        "\n",
        "## CONV2\n",
        "model_m.add(Conv1D(64,kernel_size=3,padding = 'same', activation='relu'))\n",
        "\n",
        "model_m.add(BatchNormalization())\n",
        "\n",
        "model_m.add(MaxPooling1D(pool_size=(2)))\n",
        "## End CONV2\n",
        "\n",
        "model_m.add(Flatten())\n",
        "model_m.add(Dense(64, activation='tanh'))\n",
        "model_m.add(Dropout(0.1))\n",
        "# model_m.add(Dense(32, activation='tanh'))\n",
        "# model_m.add(Dropout(0.2))\n",
        "model_m.add(Dense(16, activation='relu'))\n",
        "model_m.add(Dropout(0.2))\n",
        "model_m.add(Dense(num_classes, activation='softmax'))\n",
        "model_m.summary()"
      ],
      "execution_count": null,
      "outputs": [
        {
          "output_type": "stream",
          "text": [
            "Model: \"sequential\"\n",
            "_________________________________________________________________\n",
            "Layer (type)                 Output Shape              Param #   \n",
            "=================================================================\n",
            "conv1d (Conv1D)              (None, 1620, 128)         512       \n",
            "_________________________________________________________________\n",
            "batch_normalization (BatchNo (None, 1620, 128)         512       \n",
            "_________________________________________________________________\n",
            "max_pooling1d (MaxPooling1D) (None, 810, 128)          0         \n",
            "_________________________________________________________________\n",
            "conv1d_1 (Conv1D)            (None, 810, 64)           24640     \n",
            "_________________________________________________________________\n",
            "batch_normalization_1 (Batch (None, 810, 64)           256       \n",
            "_________________________________________________________________\n",
            "max_pooling1d_1 (MaxPooling1 (None, 405, 64)           0         \n",
            "_________________________________________________________________\n",
            "flatten (Flatten)            (None, 25920)             0         \n",
            "_________________________________________________________________\n",
            "dense (Dense)                (None, 64)                1658944   \n",
            "_________________________________________________________________\n",
            "dropout (Dropout)            (None, 64)                0         \n",
            "_________________________________________________________________\n",
            "dense_1 (Dense)              (None, 16)                1040      \n",
            "_________________________________________________________________\n",
            "dropout_1 (Dropout)          (None, 16)                0         \n",
            "_________________________________________________________________\n",
            "dense_2 (Dense)              (None, 5)                 85        \n",
            "=================================================================\n",
            "Total params: 1,685,989\n",
            "Trainable params: 1,685,605\n",
            "Non-trainable params: 384\n",
            "_________________________________________________________________\n"
          ],
          "name": "stdout"
        }
      ]
    },
    {
      "cell_type": "code",
      "metadata": {
        "id": "yi63jA2WJsC2"
      },
      "source": [
        "# num_classes=5\n",
        "\n",
        "# model_m = Sequential()\n",
        "# input_shape=(x_train.shape[1], 1)\n",
        "# model_m.add(Conv1D(64, kernel_size=3,padding = 'same',activation='relu', input_shape=input_shape))\n",
        "\n",
        "# model_m.add(BatchNormalization())\n",
        "\n",
        "# model_m.add(MaxPooling1D(pool_size=(2)))\n",
        "\n",
        "# ## CONV2\n",
        "# model_m.add(Conv1D(32,kernel_size=3,padding = 'same', activation='relu'))\n",
        "\n",
        "# model_m.add(BatchNormalization())\n",
        "\n",
        "# model_m.add(MaxPooling1D(pool_size=(2)))\n",
        "# ## End CONV2\n",
        "\n",
        "\n",
        "# ## CONV2\n",
        "# model_m.add(Conv1D(16,kernel_size=3,padding = 'same', activation='relu'))\n",
        "\n",
        "# model_m.add(BatchNormalization())\n",
        "\n",
        "# model_m.add(MaxPooling1D(pool_size=(2)))\n",
        "# ## End CONV2\n",
        "\n",
        "# model_m.add(Flatten())\n",
        "# model_m.add(Dense(32, activation='tanh'))\n",
        "# model_m.add(Dropout(0.1))\n",
        "# # model_m.add(Dense(32, activation='tanh'))\n",
        "# # model_m.add(Dropout(0.2))\n",
        "# model_m.add(Dense(16, activation='relu'))\n",
        "# model_m.add(Dropout(0.2))\n",
        "# model_m.add(Dense(num_classes, activation='softmax'))\n",
        "# model_m.summary()"
      ],
      "execution_count": null,
      "outputs": []
    },
    {
      "cell_type": "code",
      "metadata": {
        "colab": {
          "base_uri": "https://localhost:8080/"
        },
        "id": "1hAXD7g5J5B6",
        "outputId": "cfbbc422-d408-4218-cbd4-0530088dfcc9"
      },
      "source": [
        "model_m.compile(loss='categorical_crossentropy',\n",
        "                optimizer='adam', metrics=['accuracy'])\n",
        "\n",
        "# Hyper-parameters\n",
        "BATCH_SIZE = 100\n",
        "EPOCHS = 50\n",
        "\n",
        "# Enable validation to use ModelCheckpoint and EarlyStopping callbacks.\n",
        "shape=x_train.shape\n",
        "history = model_m.fit(x_train,\n",
        "                      y_train,\n",
        "                      batch_size=BATCH_SIZE,\n",
        "                      epochs=EPOCHS,\n",
        "                      validation_split=0.1,\n",
        "                      verbose=1)"
      ],
      "execution_count": null,
      "outputs": [
        {
          "output_type": "stream",
          "text": [
            "Epoch 1/50\n",
            "8/8 [==============================] - 9s 986ms/step - loss: 0.7887 - accuracy: 0.6751 - val_loss: 4.7063 - val_accuracy: 0.1348\n",
            "Epoch 2/50\n",
            "8/8 [==============================] - 8s 949ms/step - loss: 0.6545 - accuracy: 0.7771 - val_loss: 4.6509 - val_accuracy: 0.1348\n",
            "Epoch 3/50\n",
            "8/8 [==============================] - 8s 948ms/step - loss: 0.5827 - accuracy: 0.8060 - val_loss: 4.7609 - val_accuracy: 0.1348\n",
            "Epoch 4/50\n",
            "8/8 [==============================] - 8s 951ms/step - loss: 0.5137 - accuracy: 0.8375 - val_loss: 4.8457 - val_accuracy: 0.1348\n",
            "Epoch 5/50\n",
            "8/8 [==============================] - 8s 951ms/step - loss: 0.4769 - accuracy: 0.8401 - val_loss: 4.9782 - val_accuracy: 0.1348\n",
            "Epoch 6/50\n",
            "8/8 [==============================] - 8s 952ms/step - loss: 0.3789 - accuracy: 0.8904 - val_loss: 4.8287 - val_accuracy: 0.1348\n",
            "Epoch 7/50\n",
            "8/8 [==============================] - 8s 951ms/step - loss: 0.3096 - accuracy: 0.9156 - val_loss: 4.8646 - val_accuracy: 0.1573\n",
            "Epoch 8/50\n",
            "8/8 [==============================] - 8s 948ms/step - loss: 0.2690 - accuracy: 0.9232 - val_loss: 4.4859 - val_accuracy: 0.1685\n",
            "Epoch 9/50\n",
            "8/8 [==============================] - 8s 949ms/step - loss: 0.2542 - accuracy: 0.9408 - val_loss: 3.6144 - val_accuracy: 0.1910\n",
            "Epoch 10/50\n",
            "8/8 [==============================] - 8s 947ms/step - loss: 0.2170 - accuracy: 0.9496 - val_loss: 1.8118 - val_accuracy: 0.3596\n",
            "Epoch 11/50\n",
            "8/8 [==============================] - 8s 951ms/step - loss: 0.2019 - accuracy: 0.9509 - val_loss: 3.6833 - val_accuracy: 0.2135\n",
            "Epoch 12/50\n",
            "8/8 [==============================] - 8s 948ms/step - loss: 0.1653 - accuracy: 0.9660 - val_loss: 3.6082 - val_accuracy: 0.2360\n",
            "Epoch 13/50\n",
            "8/8 [==============================] - 8s 958ms/step - loss: 0.1707 - accuracy: 0.9572 - val_loss: 3.1682 - val_accuracy: 0.3258\n",
            "Epoch 14/50\n",
            "8/8 [==============================] - 8s 961ms/step - loss: 0.1424 - accuracy: 0.9736 - val_loss: 3.1408 - val_accuracy: 0.3596\n",
            "Epoch 15/50\n",
            "8/8 [==============================] - 8s 952ms/step - loss: 0.1254 - accuracy: 0.9723 - val_loss: 3.1586 - val_accuracy: 0.3708\n",
            "Epoch 16/50\n",
            "8/8 [==============================] - 8s 952ms/step - loss: 0.1307 - accuracy: 0.9773 - val_loss: 2.0504 - val_accuracy: 0.5393\n",
            "Epoch 17/50\n",
            "8/8 [==============================] - 8s 959ms/step - loss: 0.1043 - accuracy: 0.9761 - val_loss: 1.7099 - val_accuracy: 0.5506\n",
            "Epoch 18/50\n",
            "8/8 [==============================] - 8s 958ms/step - loss: 0.1026 - accuracy: 0.9761 - val_loss: 1.6344 - val_accuracy: 0.5618\n",
            "Epoch 19/50\n",
            "8/8 [==============================] - 8s 955ms/step - loss: 0.0868 - accuracy: 0.9836 - val_loss: 2.2911 - val_accuracy: 0.4270\n",
            "Epoch 20/50\n",
            "8/8 [==============================] - 8s 955ms/step - loss: 0.0971 - accuracy: 0.9773 - val_loss: 1.6348 - val_accuracy: 0.5618\n",
            "Epoch 21/50\n",
            "8/8 [==============================] - 8s 958ms/step - loss: 0.0808 - accuracy: 0.9849 - val_loss: 2.1727 - val_accuracy: 0.4607\n",
            "Epoch 22/50\n",
            "8/8 [==============================] - 8s 954ms/step - loss: 0.0696 - accuracy: 0.9849 - val_loss: 1.9821 - val_accuracy: 0.4607\n",
            "Epoch 23/50\n",
            "8/8 [==============================] - 8s 948ms/step - loss: 0.0728 - accuracy: 0.9887 - val_loss: 1.1729 - val_accuracy: 0.5730\n",
            "Epoch 24/50\n",
            "8/8 [==============================] - 8s 949ms/step - loss: 0.0764 - accuracy: 0.9798 - val_loss: 0.8248 - val_accuracy: 0.7079\n",
            "Epoch 25/50\n",
            "8/8 [==============================] - 8s 953ms/step - loss: 0.0776 - accuracy: 0.9811 - val_loss: 0.2246 - val_accuracy: 0.9326\n",
            "Epoch 26/50\n",
            "8/8 [==============================] - 8s 954ms/step - loss: 0.0582 - accuracy: 0.9861 - val_loss: 0.1022 - val_accuracy: 0.9551\n",
            "Epoch 27/50\n",
            "8/8 [==============================] - 8s 947ms/step - loss: 0.0485 - accuracy: 0.9924 - val_loss: 2.0843 - val_accuracy: 0.4719\n",
            "Epoch 28/50\n",
            "8/8 [==============================] - 8s 950ms/step - loss: 0.0443 - accuracy: 0.9937 - val_loss: 0.6747 - val_accuracy: 0.7978\n",
            "Epoch 29/50\n",
            "8/8 [==============================] - 8s 949ms/step - loss: 0.0551 - accuracy: 0.9874 - val_loss: 0.4290 - val_accuracy: 0.8764\n",
            "Epoch 30/50\n",
            "8/8 [==============================] - 8s 950ms/step - loss: 0.0611 - accuracy: 0.9836 - val_loss: 0.7962 - val_accuracy: 0.8090\n",
            "Epoch 31/50\n",
            "8/8 [==============================] - 8s 953ms/step - loss: 0.0486 - accuracy: 0.9861 - val_loss: 1.1474 - val_accuracy: 0.6404\n",
            "Epoch 32/50\n",
            "8/8 [==============================] - 8s 947ms/step - loss: 0.0461 - accuracy: 0.9887 - val_loss: 0.6301 - val_accuracy: 0.8090\n",
            "Epoch 33/50\n",
            "8/8 [==============================] - 8s 952ms/step - loss: 0.0499 - accuracy: 0.9861 - val_loss: 0.1327 - val_accuracy: 0.9551\n",
            "Epoch 34/50\n",
            "8/8 [==============================] - 8s 954ms/step - loss: 0.0475 - accuracy: 0.9899 - val_loss: 0.4007 - val_accuracy: 0.8652\n",
            "Epoch 35/50\n",
            "8/8 [==============================] - 8s 954ms/step - loss: 0.0377 - accuracy: 0.9874 - val_loss: 0.0970 - val_accuracy: 0.9663\n",
            "Epoch 36/50\n",
            "8/8 [==============================] - 8s 945ms/step - loss: 0.0449 - accuracy: 0.9899 - val_loss: 2.6201 - val_accuracy: 0.4494\n",
            "Epoch 37/50\n",
            "8/8 [==============================] - 8s 958ms/step - loss: 0.0365 - accuracy: 0.9950 - val_loss: 1.8019 - val_accuracy: 0.5730\n",
            "Epoch 38/50\n",
            "8/8 [==============================] - 8s 954ms/step - loss: 0.0419 - accuracy: 0.9912 - val_loss: 0.2048 - val_accuracy: 0.9326\n",
            "Epoch 39/50\n",
            "8/8 [==============================] - 8s 952ms/step - loss: 0.0403 - accuracy: 0.9887 - val_loss: 0.1393 - val_accuracy: 0.9438\n",
            "Epoch 40/50\n",
            "8/8 [==============================] - 8s 950ms/step - loss: 0.0386 - accuracy: 0.9899 - val_loss: 0.2803 - val_accuracy: 0.8989\n",
            "Epoch 41/50\n",
            "8/8 [==============================] - 8s 949ms/step - loss: 0.0337 - accuracy: 0.9899 - val_loss: 0.1602 - val_accuracy: 0.9101\n",
            "Epoch 42/50\n",
            "8/8 [==============================] - 8s 949ms/step - loss: 0.0318 - accuracy: 0.9950 - val_loss: 0.9403 - val_accuracy: 0.7416\n",
            "Epoch 43/50\n",
            "8/8 [==============================] - 8s 946ms/step - loss: 0.0399 - accuracy: 0.9912 - val_loss: 0.2533 - val_accuracy: 0.9213\n",
            "Epoch 44/50\n",
            "8/8 [==============================] - 8s 955ms/step - loss: 0.0333 - accuracy: 0.9950 - val_loss: 0.5402 - val_accuracy: 0.8315\n",
            "Epoch 45/50\n",
            "8/8 [==============================] - 8s 954ms/step - loss: 0.0302 - accuracy: 0.9975 - val_loss: 0.7619 - val_accuracy: 0.7865\n",
            "Epoch 46/50\n",
            "8/8 [==============================] - 8s 950ms/step - loss: 0.0329 - accuracy: 0.9912 - val_loss: 0.2672 - val_accuracy: 0.9101\n",
            "Epoch 47/50\n",
            "8/8 [==============================] - 8s 952ms/step - loss: 0.0361 - accuracy: 0.9912 - val_loss: 0.4002 - val_accuracy: 0.8764\n",
            "Epoch 48/50\n",
            "8/8 [==============================] - 8s 951ms/step - loss: 0.0284 - accuracy: 0.9962 - val_loss: 0.5409 - val_accuracy: 0.8202\n",
            "Epoch 49/50\n",
            "8/8 [==============================] - 8s 954ms/step - loss: 0.0270 - accuracy: 0.9937 - val_loss: 0.5843 - val_accuracy: 0.8202\n",
            "Epoch 50/50\n",
            "8/8 [==============================] - 8s 952ms/step - loss: 0.0210 - accuracy: 0.9975 - val_loss: 0.1410 - val_accuracy: 0.9438\n"
          ],
          "name": "stdout"
        }
      ]
    },
    {
      "cell_type": "code",
      "metadata": {
        "colab": {
          "base_uri": "https://localhost:8080/"
        },
        "id": "OZNS-3wQOR0g",
        "outputId": "02bcee56-b799-4216-ad89-6fe573dbde18"
      },
      "source": [
        "model_m.save(\"model_94\")\n",
        "sh=x_test\n",
        "score = model_m.evaluate(x_test, y_test, verbose=0)\n",
        "print('Test loss:', score[0])\n",
        "print('Test accuracy:', score[1])"
      ],
      "execution_count": null,
      "outputs": [
        {
          "output_type": "stream",
          "text": [
            "INFO:tensorflow:Assets written to: model_94/assets\n",
            "Test loss: 0.1554442197084427\n",
            "Test accuracy: 0.9559321999549866\n"
          ],
          "name": "stdout"
        }
      ]
    },
    {
      "cell_type": "code",
      "metadata": {
        "colab": {
          "base_uri": "https://localhost:8080/"
        },
        "id": "3qO_taXiGqWG",
        "outputId": "0096b950-ba43-483b-a407-b03e7420e478"
      },
      "source": [
        "print(history.history.keys())\n"
      ],
      "execution_count": null,
      "outputs": [
        {
          "output_type": "stream",
          "text": [
            "dict_keys(['loss', 'accuracy', 'val_loss', 'val_accuracy'])\n"
          ],
          "name": "stdout"
        }
      ]
    },
    {
      "cell_type": "code",
      "metadata": {
        "id": "RQapulbtF0Y2"
      },
      "source": [
        "# plt.plot(history.history['accuracy'])\n",
        "# plt.plot(history.history['val_accuracy'])\n",
        "# plt.title('model accuracy')\n",
        "# plt.ylabel('accuracy')\n",
        "# plt.xlabel('epoch')\n",
        "# plt.legend(['train', 'validation'], loc='upper left')\n",
        "# plt.show()\n",
        "# # \"Loss\"\n",
        "# plt.plot(history.history['loss'])\n",
        "# plt.plot(history.history['val_loss'])\n",
        "# plt.title('model loss')\n",
        "# plt.ylabel('loss')\n",
        "# plt.xlabel('epoch')\n",
        "# plt.legend(['train', 'validation'], loc='upper left')\n",
        "# plt.show()"
      ],
      "execution_count": 3,
      "outputs": []
    },
    {
      "cell_type": "code",
      "metadata": {
        "id": "zNzM0j3x06Wq"
      },
      "source": [
        "#set 1\n",
        "#Test loss: 0.4121353328227997\n",
        "#Test accuracy: 0.9306930899620056"
      ],
      "execution_count": null,
      "outputs": []
    },
    {
      "cell_type": "code",
      "metadata": {
        "colab": {
          "base_uri": "https://localhost:8080/"
        },
        "id": "3luf7VRy1AC_",
        "outputId": "9bd5187e-ffb2-43d9-d704-68920bd8abfc"
      },
      "source": [
        "confusion_matrix"
      ],
      "execution_count": null,
      "outputs": [
        {
          "output_type": "execute_result",
          "data": {
            "text/plain": [
              "array([[49,  0,  0,  1,  0],\n",
              "       [ 0, 48,  0,  0,  0],\n",
              "       [ 1,  1, 28,  0,  4],\n",
              "       [ 0,  3,  5, 31,  8],\n",
              "       [ 0,  1,  4,  1, 51]])"
            ]
          },
          "metadata": {
            "tags": []
          },
          "execution_count": 35
        }
      ]
    },
    {
      "cell_type": "code",
      "metadata": {
        "id": "5YVe7K1KWDek"
      },
      "source": [
        "# 0.85 when two 64 conv used"
      ],
      "execution_count": null,
      "outputs": []
    },
    {
      "cell_type": "code",
      "metadata": {
        "id": "W9QJ3T1UTsqg"
      },
      "source": [
        "import sklearn.metrics as metrics\n",
        "\n",
        "y_test_pred = model_m.predict(x_test)  \n",
        "y_test_pred_labels = np.argmax(y_test_pred, axis=1)  # only necessary if output has one-hot-encoding, shape=(n_samples)\n",
        "# print(y_test_pred_labels)\n",
        "y_test_labels = np.argmax(y_test, axis=1)\n",
        "# print(y_test_labels)\n",
        "confusion_matrix = metrics.confusion_matrix(y_true=y_test_labels, y_pred=y_test_pred_labels)"
      ],
      "execution_count": null,
      "outputs": []
    },
    {
      "cell_type": "code",
      "metadata": {
        "colab": {
          "base_uri": "https://localhost:8080/",
          "height": 341
        },
        "id": "iag-_IsYQ6eL",
        "outputId": "0e5e92cf-52d3-440a-d02f-b0ac98ba1a1b"
      },
      "source": [
        "import matplotlib.pyplot as plt\n",
        "import seaborn as sn\n",
        "\n",
        "fig, ax = plt.subplots()\n",
        "\n",
        "text_labels=['Covid','MI','MI-Hist','Abnormal','Normal']\n",
        "df_cm = pd.DataFrame(confusion_matrix, range(num_classes), range(num_classes))\n",
        "# plt.figure(figsize=(10,7))\n",
        "sn.set(font_scale=1.4) # for label size\n",
        "sn.heatmap(df_cm, annot=True, annot_kws={\"size\": 20}, fmt='g') # font size\n",
        "\n",
        "ax.set_xticklabels( text_labels, rotation = 45)\n",
        "ax.set_yticklabels(text_labels,rotation = 45)\n",
        "\n",
        "plt.ylabel(\"Output Class\")\n",
        "plt.xlabel(\"Target Class\")\n",
        "\n",
        "\n",
        "plt.show()"
      ],
      "execution_count": null,
      "outputs": [
        {
          "output_type": "display_data",
          "data": {
            "image/png": "[encoded data removed]",
            "text/plain": [
              "<Figure size 432x288 with 2 Axes>"
            ]
          },
          "metadata": {
            "tags": [],
            "image/png": {
              "width": 431,
              "height": 324
            }
          }
        }
      ]
    },
    {
      "cell_type": "code",
      "metadata": {
        "id": "hC84hmvrVr13"
      },
      "source": [
        ""
      ],
      "execution_count": null,
      "outputs": []
    },
    {
      "cell_type": "code",
      "metadata": {
        "colab": {
          "base_uri": "https://localhost:8080/"
        },
        "id": "r44F6KcvzXvl",
        "outputId": "0b955374-ec0e-468e-faf2-480df393a30e"
      },
      "source": [
        "from sklearn.metrics import classification_report\n",
        "\n",
        "y_pred = model_m.predict(x_test, batch_size=100, verbose=1)\n",
        "y_pred_bool = np.argmax(y_pred, axis=1)\n",
        "\n",
        "y_test_b = np.argmax(y_test, axis=1)\n",
        "\n",
        "report=classification_report(y_test_b, y_pred_bool, target_names=text_labels, output_dict=True)\n",
        "print(classification_report(y_test_b, y_pred_bool, target_names=text_labels))"
      ],
      "execution_count": null,
      "outputs": [
        {
          "output_type": "stream",
          "text": [
            "3/3 [==============================] - 0s 51ms/step\n",
            "              precision    recall  f1-score   support\n",
            "\n",
            "       Covid       0.98      0.98      0.98        50\n",
            "          MI       0.91      1.00      0.95        48\n",
            "     MI-Hist       0.76      0.82      0.79        34\n",
            "    Abnormal       0.94      0.66      0.78        47\n",
            "      Normal       0.81      0.89      0.85        57\n",
            "\n",
            "    accuracy                           0.88       236\n",
            "   macro avg       0.88      0.87      0.87       236\n",
            "weighted avg       0.88      0.88      0.87       236\n",
            "\n"
          ],
          "name": "stdout"
        }
      ]
    },
    {
      "cell_type": "code",
      "metadata": {
        "id": "_ckNWrATggza"
      },
      "source": [
        "df = pd.DataFrame(report).transpose()"
      ],
      "execution_count": null,
      "outputs": []
    },
    {
      "cell_type": "code",
      "metadata": {
        "colab": {
          "base_uri": "https://localhost:8080/",
          "height": 204
        },
        "id": "n4HxWkf6iggJ",
        "outputId": "a6dee7d9-2b66-4a1b-a9e6-1b3e0113310f"
      },
      "source": [
        "df[:-3]"
      ],
      "execution_count": null,
      "outputs": [
        {
          "output_type": "execute_result",
          "data": {
            "text/html": [
              "<div>\n",
              "<style scoped>\n",
              "    .dataframe tbody tr th:only-of-type {\n",
              "        vertical-align: middle;\n",
              "    }\n",
              "\n",
              "    .dataframe tbody tr th {\n",
              "        vertical-align: top;\n",
              "    }\n",
              "\n",
              "    .dataframe thead th {\n",
              "        text-align: right;\n",
              "    }\n",
              "</style>\n",
              "<table border=\"1\" class=\"dataframe\">\n",
              "  <thead>\n",
              "    <tr style=\"text-align: right;\">\n",
              "      <th></th>\n",
              "      <th>precision</th>\n",
              "      <th>recall</th>\n",
              "      <th>f1-score</th>\n",
              "      <th>support</th>\n",
              "    </tr>\n",
              "  </thead>\n",
              "  <tbody>\n",
              "    <tr>\n",
              "      <th>Covid</th>\n",
              "      <td>0.980000</td>\n",
              "      <td>0.980000</td>\n",
              "      <td>0.980000</td>\n",
              "      <td>50.0</td>\n",
              "    </tr>\n",
              "    <tr>\n",
              "      <th>MI</th>\n",
              "      <td>0.905660</td>\n",
              "      <td>1.000000</td>\n",
              "      <td>0.950495</td>\n",
              "      <td>48.0</td>\n",
              "    </tr>\n",
              "    <tr>\n",
              "      <th>MI-Hist</th>\n",
              "      <td>0.756757</td>\n",
              "      <td>0.823529</td>\n",
              "      <td>0.788732</td>\n",
              "      <td>34.0</td>\n",
              "    </tr>\n",
              "    <tr>\n",
              "      <th>Abnormal</th>\n",
              "      <td>0.939394</td>\n",
              "      <td>0.659574</td>\n",
              "      <td>0.775000</td>\n",
              "      <td>47.0</td>\n",
              "    </tr>\n",
              "    <tr>\n",
              "      <th>Normal</th>\n",
              "      <td>0.809524</td>\n",
              "      <td>0.894737</td>\n",
              "      <td>0.850000</td>\n",
              "      <td>57.0</td>\n",
              "    </tr>\n",
              "  </tbody>\n",
              "</table>\n",
              "</div>"
            ],
            "text/plain": [
              "          precision    recall  f1-score  support\n",
              "Covid      0.980000  0.980000  0.980000     50.0\n",
              "MI         0.905660  1.000000  0.950495     48.0\n",
              "MI-Hist    0.756757  0.823529  0.788732     34.0\n",
              "Abnormal   0.939394  0.659574  0.775000     47.0\n",
              "Normal     0.809524  0.894737  0.850000     57.0"
            ]
          },
          "metadata": {
            "tags": []
          },
          "execution_count": 48
        }
      ]
    },
    {
      "cell_type": "markdown",
      "metadata": {
        "id": "awKhL4mloL6v"
      },
      "source": [
        ""
      ]
    },
    {
      "cell_type": "code",
      "metadata": {
        "id": "5rL-ow3sKSC_"
      },
      "source": [
        ""
      ],
      "execution_count": null,
      "outputs": []
    }
  ]
}