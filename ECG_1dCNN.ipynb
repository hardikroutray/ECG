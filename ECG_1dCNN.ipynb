{
  "nbformat": 4,
  "nbformat_minor": 0,
  "metadata": {
    "colab": {
      "name": "ECG_1dCNNipynb",
      "provenance": [],
      "collapsed_sections": [],
      "authorship_tag": "ABX9TyPDo0xJQuzXoEUgF0XbpVKM",
      "include_colab_link": true
    },
    "kernelspec": {
      "name": "python3",
      "display_name": "Python 3"
    },
    "language_info": {
      "name": "python"
    }
  },
  "cells": [
    {
      "cell_type": "markdown",
      "metadata": {
        "id": "view-in-github",
        "colab_type": "text"
      },
      "source": [
        "<a href=\"https://colab.research.google.com/github/hardikroutray/ECG/blob/main/ECG_1dCNN.ipynb\" target=\"_parent\"><img src=\"https://colab.research.google.com/assets/colab-badge.svg\" alt=\"Open In Colab\"/></a>"
      ]
    },
    {
      "cell_type": "code",
      "metadata": {
        "id": "g4s82uBJWlj7",
        "colab": {
          "base_uri": "https://localhost:8080/"
        },
        "outputId": "93ef18aa-bf07-466f-ebc0-15c0b8bd1f84"
      },
      "source": [
        "import pandas as pd\n",
        "import numpy as np\n",
        "import matplotlib as plt\n",
        "import matplotlib.pyplot as plt\n",
        "import seaborn as sn\n",
        "%matplotlib inline\n",
        "%pylab inline\n",
        "%config InlineBackend.figure_formats = ['retina']\n",
        "from imutils import paths\n",
        "import time   # time1 = time.time(); print('Time taken: {:.1f} sec'.format(time.time() - time1))\n",
        "import cv2\n",
        "import pickle\n",
        "import warnings\n",
        "warnings.filterwarnings(\"ignore\")\n",
        "import pickle\n"
      ],
      "execution_count": null,
      "outputs": [
        {
          "output_type": "stream",
          "text": [
            "Populating the interactive namespace from numpy and matplotlib\n"
          ],
          "name": "stdout"
        }
      ]
    },
    {
      "cell_type": "code",
      "metadata": {
        "id": "pluEuqpFYD0V"
      },
      "source": [
        "\n",
        "import keras\n",
        "import keras.utils\n",
        "from keras.models import Sequential\n",
        "from keras.layers import Dense, Dropout, Flatten\n",
        "from keras.layers import Conv2D, MaxPooling2D\n",
        "from keras.optimizers import Adam\n",
        "\n",
        "from tensorflow.keras import utils as np_utils\n",
        "\n",
        "from keras.utils import to_categorical\n",
        "from keras.preprocessing import image\n",
        "from sklearn.model_selection import train_test_split\n",
        "from keras.utils import to_categorical\n",
        "from tqdm import tqdm\n",
        "from sklearn.metrics import plot_confusion_matrix\n",
        "from sklearn.model_selection import train_test_split\n"
      ],
      "execution_count": null,
      "outputs": []
    },
    {
      "cell_type": "code",
      "metadata": {
        "id": "cwJWpDYHJ0Fs"
      },
      "source": [
        "from tensorflow import keras \n",
        "from tensorflow.keras.models import Model\n",
        "from tensorflow.keras.models import Sequential\n",
        "from tensorflow.keras.layers import Conv1D\n",
        "from tensorflow.keras.layers import Convolution1D, ZeroPadding1D, MaxPooling1D, BatchNormalization, Activation, Dropout, Flatten, Dense"
      ],
      "execution_count": null,
      "outputs": []
    },
    {
      "cell_type": "code",
      "metadata": {
        "colab": {
          "base_uri": "https://localhost:8080/"
        },
        "id": "JSElyJujYOGQ",
        "outputId": "13fc9c76-cdd3-4c95-82d9-162713d3940c"
      },
      "source": [
        "from google.colab import drive\n",
        "drive.mount._DEBUG = True\n",
        "drive.mount('/content/MyDrive', force_remount=True)"
      ],
      "execution_count": null,
      "outputs": [
        {
          "output_type": "stream",
          "text": [
            "unset HISTFILE; export PS1=\"root@c7fba1111d0b-06c45ba497424d989d006178dd991ba2: \"\n",
            "bash: cannot set terminal process group (-1): Inappropriate ioctl for device\n",
            "bash: no job control in this shell\n",
            "\u001b[01;34m/content\u001b[00m# root@c7fba1111d0b-06c45ba497424d989d006178dd991ba2: umount -f /content/MyDrive || umount /content/MyDrive; pkill -9 -x drive\n",
            "root@c7fba1111d0b-06c45ba497424d989d006178dd991ba2: pkill -9 -f /opt/google/drive/directoryprefetcher_binary\n",
            "root@c7fba1111d0b-06c45ba497424d989d006178dd991ba2: ( while `sleep 0.5`; do if [[ -d \"/content/MyDrive\" && \"$(ls -A /content/MyDrive)\" != \"\" ]]; then echo \"google.colab.drive MOUNTED\"; break; fi; done ) &\n",
            "[1] 323\n",
            "root@c7fba1111d0b-06c45ba497424d989d006178dd991ba2: cat /tmp/tmp4kvs3n2n/drive.fifo | head -1 | ( /opt/google/drive/drive --features=fuse_max_background:1000,max_read_qps:1000,max_write_qps:1000,max_operation_batch_size:15,max_parallel_push_task_instances:10,opendir_timeout_ms:120000,virtual_folders_omit_spaces:true --inet_family=IPV4_ONLY --preferences=trusted_root_certs_file_path:/opt/google/drive/roots.pem,mount_point_path:/content/MyDrive --console_auth 2>&1 | grep --line-buffered -E \"(Go to this URL in a browser: https://.*)$|Drive File Stream encountered a problem and has stopped|Authorization failed|The domain policy has disabled Drive File Stream\"; echo \"drive EXITED\"; ) &\n",
            "[2] 327\n",
            "root@c7fba1111d0b-06c45ba497424d989d006178dd991ba2: google.colab.drive MOUNTED\n",
            "fuser -kw \"/root/.config/Google/DriveFS/Logs/timeouts.txt\" ; rm -rf \"/root/.config/Google/DriveFS/Logs/timeouts.txt\"\n",
            "/root/.config/Google/DriveFS/Logs/timeouts.txt:   246\n",
            "root@c7fba1111d0b-06c45ba497424d989d006178dd991ba2: nohup bash -c 'tail -n +0 -F \"/root/.config/Google/DriveFS/Logs/drive_fs.txt\" | python3 /opt/google/drive/drive-filter.py > \"/root/.config/Google/DriveFS/Logs/timeouts.txt\" ' < /dev/null > /dev/null 2>&1 &\n",
            "[3] 374\n",
            "root@c7fba1111d0b-06c45ba497424d989d006178dd991ba2: disown -a\n",
            "root@c7fba1111d0b-06c45ba497424d989d006178dd991ba2: exit\n",
            "Mounted at /content/MyDrive\n"
          ],
          "name": "stdout"
        }
      ]
    },
    {
      "cell_type": "code",
      "metadata": {
        "id": "OneI2FHXYF8H"
      },
      "source": [
        "# Enter the directory\n",
        "!cd /content/MyDrive/MyDrive/ECG/\n"
      ],
      "execution_count": null,
      "outputs": []
    },
    {
      "cell_type": "code",
      "metadata": {
        "id": "DlqItrd6XNnX"
      },
      "source": [
        "with open('/content/MyDrive/MyDrive/ECG/dataset_dict.pickle', 'rb') as file:\n",
        "    dataset_dict = pickle.load(file)\n",
        "    "
      ],
      "execution_count": null,
      "outputs": []
    },
    {
      "cell_type": "code",
      "metadata": {
        "id": "NhNlh62VjOfY",
        "colab": {
          "base_uri": "https://localhost:8080/"
        },
        "outputId": "7a6796b2-61fc-453c-d7a0-229c91982435"
      },
      "source": [
        "dataset_dict.keys()"
      ],
      "execution_count": null,
      "outputs": [
        {
          "output_type": "execute_result",
          "data": {
            "text/plain": [
              "dict_keys(['X_train', 'X_test', 'y_train', 'y_test'])"
            ]
          },
          "metadata": {
            "tags": []
          },
          "execution_count": 42
        }
      ]
    },
    {
      "cell_type": "code",
      "metadata": {
        "id": "OAKau2s0iv40"
      },
      "source": [
        "x_train1=dataset_dict['X_train']\n",
        "x_test1=dataset_dict['X_test']\n",
        "\n",
        "y_train1=dataset_dict['y_train']\n",
        "y_test1=dataset_dict['y_test']\n",
        "\n",
        "y_test = to_categorical(y_test1)[:,1:5] # Since labeling is [1,2,3,4] instead \\\n",
        "# of [0,1,2,3]\n",
        "y_train = to_categorical(y_train1)[:,1:5] #one-hot encoding"
      ],
      "execution_count": null,
      "outputs": []
    },
    {
      "cell_type": "code",
      "metadata": {
        "colab": {
          "base_uri": "https://localhost:8080/"
        },
        "id": "WmaABnOEBPng",
        "outputId": "b59400b6-5fdc-4a1c-9102-f1a7d7366cee"
      },
      "source": [
        "y_train.shape"
      ],
      "execution_count": null,
      "outputs": [
        {
          "output_type": "execute_result",
          "data": {
            "text/plain": [
              "(696, 4)"
            ]
          },
          "metadata": {
            "tags": []
          },
          "execution_count": 125
        }
      ]
    },
    {
      "cell_type": "code",
      "metadata": {
        "id": "ejmMjREWjbnF"
      },
      "source": [
        "comb_x=np.concatenate([x_train1, x_test1],axis=0)\n",
        "comb_y=np.concatenate([y_train, y_test],axis=0)"
      ],
      "execution_count": null,
      "outputs": []
    },
    {
      "cell_type": "code",
      "metadata": {
        "id": "egYjhsPLj25f"
      },
      "source": [
        "x_train, x_test, y_train, y_test = train_test_split(comb_x, comb_y, random_state=100, test_size=0.2, stratify=comb_y)\n",
        "\n",
        "x_train=x_train[:,:,1]\n",
        "x_test=x_test[:,:,1]\n",
        "\n",
        "\n",
        "x_train=np.expand_dims(x_train,2)\n",
        "x_test=np.expand_dims(x_test,2)"
      ],
      "execution_count": null,
      "outputs": []
    },
    {
      "cell_type": "code",
      "metadata": {
        "colab": {
          "base_uri": "https://localhost:8080/"
        },
        "id": "whti8wEQOmQU",
        "outputId": "1caa33ea-b309-4c75-bfb0-e6755a01d7a3"
      },
      "source": [
        "# x_test.reshape(742,1980,1)\n",
        "print(x_test.shape)\n",
        "\n",
        "y_test.shape"
      ],
      "execution_count": null,
      "outputs": [
        {
          "output_type": "stream",
          "text": [
            "(186, 1980)\n"
          ],
          "name": "stdout"
        },
        {
          "output_type": "execute_result",
          "data": {
            "text/plain": [
              "(186, 4)"
            ]
          },
          "metadata": {
            "tags": []
          },
          "execution_count": 184
        }
      ]
    },
    {
      "cell_type": "code",
      "metadata": {
        "id": "uUAeR8Q8_q92"
      },
      "source": [
        "num_classes=4"
      ],
      "execution_count": null,
      "outputs": []
    },
    {
      "cell_type": "code",
      "metadata": {
        "colab": {
          "base_uri": "https://localhost:8080/"
        },
        "id": "yi63jA2WJsC2",
        "outputId": "4f75f062-434e-426c-a5ea-5d127817baf6"
      },
      "source": [
        "model_m = Sequential()\n",
        "input_shape=(x_train.shape[1], 1)\n",
        "model_m.add(Conv1D(128, kernel_size=3,padding = 'same',activation='relu', input_shape=input_shape))\n",
        "model_m.add(BatchNormalization())\n",
        "model_m.add(MaxPooling1D(pool_size=(2)))\n",
        "\n",
        "## CONV2\n",
        "model_m.add(Conv1D(64,kernel_size=3,padding = 'same', activation='relu'))\n",
        "model_m.add(BatchNormalization())\n",
        "model_m.add(MaxPooling1D(pool_size=(2)))\n",
        "## End CONV2\n",
        "\n",
        "model_m.add(Flatten())\n",
        "model_m.add(Dense(64, activation='tanh'))\n",
        "model_m.add(Dropout(0.1))\n",
        "# model_m.add(Dense(32, activation='tanh'))\n",
        "# model_m.add(Dropout(0.2))\n",
        "model_m.add(Dense(16, activation='relu'))\n",
        "model_m.add(Dropout(0.2))\n",
        "model_m.add(Dense(num_classes, activation='softmax'))\n",
        "model_m.summary()"
      ],
      "execution_count": null,
      "outputs": [
        {
          "output_type": "stream",
          "text": [
            "Model: \"sequential_6\"\n",
            "_________________________________________________________________\n",
            "Layer (type)                 Output Shape              Param #   \n",
            "=================================================================\n",
            "conv1d_9 (Conv1D)            (None, 1980, 128)         512       \n",
            "_________________________________________________________________\n",
            "batch_normalization_9 (Batch (None, 1980, 128)         512       \n",
            "_________________________________________________________________\n",
            "max_pooling1d_9 (MaxPooling1 (None, 990, 128)          0         \n",
            "_________________________________________________________________\n",
            "conv1d_10 (Conv1D)           (None, 990, 64)           24640     \n",
            "_________________________________________________________________\n",
            "batch_normalization_10 (Batc (None, 990, 64)           256       \n",
            "_________________________________________________________________\n",
            "max_pooling1d_10 (MaxPooling (None, 495, 64)           0         \n",
            "_________________________________________________________________\n",
            "flatten_5 (Flatten)          (None, 31680)             0         \n",
            "_________________________________________________________________\n",
            "dense_16 (Dense)             (None, 64)                2027584   \n",
            "_________________________________________________________________\n",
            "dropout_12 (Dropout)         (None, 64)                0         \n",
            "_________________________________________________________________\n",
            "dense_17 (Dense)             (None, 16)                1040      \n",
            "_________________________________________________________________\n",
            "dropout_13 (Dropout)         (None, 16)                0         \n",
            "_________________________________________________________________\n",
            "dense_18 (Dense)             (None, 4)                 68        \n",
            "=================================================================\n",
            "Total params: 2,054,612\n",
            "Trainable params: 2,054,228\n",
            "Non-trainable params: 384\n",
            "_________________________________________________________________\n"
          ],
          "name": "stdout"
        }
      ]
    },
    {
      "cell_type": "code",
      "metadata": {
        "id": "wbKysc8lOX7n"
      },
      "source": [
        ""
      ],
      "execution_count": null,
      "outputs": []
    },
    {
      "cell_type": "code",
      "metadata": {
        "colab": {
          "base_uri": "https://localhost:8080/"
        },
        "id": "1hAXD7g5J5B6",
        "outputId": "1006d15d-8f78-4fe0-8e6b-3f19c39e498c"
      },
      "source": [
        "model_m.compile(loss='categorical_crossentropy',\n",
        "                optimizer='adam', metrics=['accuracy'])\n",
        "\n",
        "# Hyper-parameters\n",
        "BATCH_SIZE = 50\n",
        "EPOCHS = 50\n",
        "\n",
        "# Enable validation to use ModelCheckpoint and EarlyStopping callbacks.\n",
        "shape=x_train.shape\n",
        "history = model_m.fit(x_train,\n",
        "                      y_train,\n",
        "                      batch_size=BATCH_SIZE,\n",
        "                      epochs=EPOCHS,\n",
        "                      validation_split=0.1,\n",
        "                      verbose=1)"
      ],
      "execution_count": null,
      "outputs": [
        {
          "output_type": "stream",
          "text": [
            "Epoch 1/50\n",
            "14/14 [==============================] - 10s 640ms/step - loss: 1.6063 - accuracy: 0.3721 - val_loss: 2.5756 - val_accuracy: 0.1867\n",
            "Epoch 2/50\n",
            "14/14 [==============================] - 9s 618ms/step - loss: 0.8650 - accuracy: 0.6528 - val_loss: 2.4498 - val_accuracy: 0.2533\n",
            "Epoch 3/50\n",
            "14/14 [==============================] - 9s 619ms/step - loss: 0.7838 - accuracy: 0.7108 - val_loss: 1.9524 - val_accuracy: 0.3467\n",
            "Epoch 4/50\n",
            "14/14 [==============================] - 9s 619ms/step - loss: 0.6789 - accuracy: 0.7389 - val_loss: 1.6581 - val_accuracy: 0.4267\n",
            "Epoch 5/50\n",
            "14/14 [==============================] - 9s 618ms/step - loss: 0.5891 - accuracy: 0.7666 - val_loss: 1.4544 - val_accuracy: 0.4667\n",
            "Epoch 6/50\n",
            "14/14 [==============================] - 9s 621ms/step - loss: 0.5472 - accuracy: 0.8045 - val_loss: 1.2917 - val_accuracy: 0.4800\n",
            "Epoch 7/50\n",
            "14/14 [==============================] - 9s 623ms/step - loss: 0.5672 - accuracy: 0.7684 - val_loss: 1.0611 - val_accuracy: 0.6133\n",
            "Epoch 8/50\n",
            "14/14 [==============================] - 9s 617ms/step - loss: 0.4768 - accuracy: 0.8273 - val_loss: 0.8566 - val_accuracy: 0.7200\n",
            "Epoch 9/50\n",
            "14/14 [==============================] - 9s 614ms/step - loss: 0.4432 - accuracy: 0.8616 - val_loss: 0.9283 - val_accuracy: 0.6800\n",
            "Epoch 10/50\n",
            "14/14 [==============================] - 9s 614ms/step - loss: 0.4070 - accuracy: 0.8582 - val_loss: 0.9806 - val_accuracy: 0.6667\n",
            "Epoch 11/50\n",
            "14/14 [==============================] - 9s 615ms/step - loss: 0.3740 - accuracy: 0.8871 - val_loss: 0.8416 - val_accuracy: 0.7200\n",
            "Epoch 12/50\n",
            "14/14 [==============================] - 9s 621ms/step - loss: 0.3320 - accuracy: 0.8879 - val_loss: 0.7742 - val_accuracy: 0.7600\n",
            "Epoch 13/50\n",
            "14/14 [==============================] - 9s 615ms/step - loss: 0.2903 - accuracy: 0.9121 - val_loss: 0.6900 - val_accuracy: 0.7867\n",
            "Epoch 14/50\n",
            "14/14 [==============================] - 9s 617ms/step - loss: 0.3190 - accuracy: 0.9051 - val_loss: 0.7770 - val_accuracy: 0.7333\n",
            "Epoch 15/50\n",
            "14/14 [==============================] - 9s 618ms/step - loss: 0.2384 - accuracy: 0.9318 - val_loss: 0.6733 - val_accuracy: 0.7733\n",
            "Epoch 16/50\n",
            "14/14 [==============================] - 9s 621ms/step - loss: 0.2280 - accuracy: 0.9356 - val_loss: 0.6953 - val_accuracy: 0.7867\n",
            "Epoch 17/50\n",
            "14/14 [==============================] - 9s 612ms/step - loss: 0.2017 - accuracy: 0.9294 - val_loss: 0.6745 - val_accuracy: 0.7600\n",
            "Epoch 18/50\n",
            "14/14 [==============================] - 9s 614ms/step - loss: 0.2223 - accuracy: 0.9432 - val_loss: 0.6732 - val_accuracy: 0.7600\n",
            "Epoch 19/50\n",
            "14/14 [==============================] - 9s 622ms/step - loss: 0.2236 - accuracy: 0.9299 - val_loss: 0.5754 - val_accuracy: 0.8000\n",
            "Epoch 20/50\n",
            "14/14 [==============================] - 9s 615ms/step - loss: 0.1554 - accuracy: 0.9610 - val_loss: 0.6373 - val_accuracy: 0.8133\n",
            "Epoch 21/50\n",
            "14/14 [==============================] - 9s 618ms/step - loss: 0.1461 - accuracy: 0.9728 - val_loss: 0.6432 - val_accuracy: 0.8133\n",
            "Epoch 22/50\n",
            "14/14 [==============================] - 9s 618ms/step - loss: 0.1290 - accuracy: 0.9644 - val_loss: 0.6336 - val_accuracy: 0.8133\n",
            "Epoch 23/50\n",
            "14/14 [==============================] - 9s 622ms/step - loss: 0.1297 - accuracy: 0.9584 - val_loss: 0.6052 - val_accuracy: 0.8133\n",
            "Epoch 24/50\n",
            "14/14 [==============================] - 9s 615ms/step - loss: 0.1371 - accuracy: 0.9641 - val_loss: 0.5995 - val_accuracy: 0.8133\n",
            "Epoch 25/50\n",
            "14/14 [==============================] - 9s 616ms/step - loss: 0.1239 - accuracy: 0.9521 - val_loss: 0.6691 - val_accuracy: 0.7867\n",
            "Epoch 26/50\n",
            "14/14 [==============================] - 9s 612ms/step - loss: 0.1222 - accuracy: 0.9625 - val_loss: 0.6311 - val_accuracy: 0.8000\n",
            "Epoch 27/50\n",
            "14/14 [==============================] - 9s 612ms/step - loss: 0.1012 - accuracy: 0.9690 - val_loss: 0.6649 - val_accuracy: 0.8400\n",
            "Epoch 28/50\n",
            "14/14 [==============================] - 9s 618ms/step - loss: 0.0938 - accuracy: 0.9699 - val_loss: 0.6243 - val_accuracy: 0.8400\n",
            "Epoch 29/50\n",
            "14/14 [==============================] - 9s 618ms/step - loss: 0.0990 - accuracy: 0.9627 - val_loss: 0.5824 - val_accuracy: 0.8267\n",
            "Epoch 30/50\n",
            "14/14 [==============================] - 9s 615ms/step - loss: 0.0934 - accuracy: 0.9710 - val_loss: 0.6045 - val_accuracy: 0.8400\n",
            "Epoch 31/50\n",
            "14/14 [==============================] - 9s 614ms/step - loss: 0.0831 - accuracy: 0.9766 - val_loss: 0.6379 - val_accuracy: 0.8133\n",
            "Epoch 32/50\n",
            "14/14 [==============================] - 9s 615ms/step - loss: 0.0976 - accuracy: 0.9719 - val_loss: 0.6728 - val_accuracy: 0.8133\n",
            "Epoch 33/50\n",
            "14/14 [==============================] - 9s 616ms/step - loss: 0.0722 - accuracy: 0.9815 - val_loss: 0.6648 - val_accuracy: 0.8133\n",
            "Epoch 34/50\n",
            "14/14 [==============================] - 9s 615ms/step - loss: 0.0715 - accuracy: 0.9732 - val_loss: 0.6822 - val_accuracy: 0.8000\n",
            "Epoch 35/50\n",
            "14/14 [==============================] - 9s 613ms/step - loss: 0.0696 - accuracy: 0.9734 - val_loss: 0.6404 - val_accuracy: 0.8133\n",
            "Epoch 36/50\n",
            "14/14 [==============================] - 9s 618ms/step - loss: 0.0800 - accuracy: 0.9755 - val_loss: 0.5953 - val_accuracy: 0.8133\n",
            "Epoch 37/50\n",
            "14/14 [==============================] - 9s 616ms/step - loss: 0.0605 - accuracy: 0.9784 - val_loss: 0.6624 - val_accuracy: 0.8000\n",
            "Epoch 38/50\n",
            "14/14 [==============================] - 9s 621ms/step - loss: 0.0764 - accuracy: 0.9857 - val_loss: 0.7842 - val_accuracy: 0.8133\n",
            "Epoch 39/50\n",
            "14/14 [==============================] - 9s 613ms/step - loss: 0.0829 - accuracy: 0.9769 - val_loss: 0.5785 - val_accuracy: 0.7867\n",
            "Epoch 40/50\n",
            "14/14 [==============================] - 9s 616ms/step - loss: 0.0669 - accuracy: 0.9830 - val_loss: 0.8319 - val_accuracy: 0.7867\n",
            "Epoch 41/50\n",
            "14/14 [==============================] - 9s 612ms/step - loss: 0.0753 - accuracy: 0.9755 - val_loss: 0.7327 - val_accuracy: 0.8133\n",
            "Epoch 42/50\n",
            "14/14 [==============================] - 9s 616ms/step - loss: 0.0678 - accuracy: 0.9761 - val_loss: 0.7903 - val_accuracy: 0.8133\n",
            "Epoch 43/50\n",
            "14/14 [==============================] - 9s 620ms/step - loss: 0.0595 - accuracy: 0.9894 - val_loss: 0.7530 - val_accuracy: 0.8267\n",
            "Epoch 44/50\n",
            "14/14 [==============================] - 9s 610ms/step - loss: 0.0693 - accuracy: 0.9833 - val_loss: 0.7748 - val_accuracy: 0.8267\n",
            "Epoch 45/50\n",
            "14/14 [==============================] - 9s 623ms/step - loss: 0.0489 - accuracy: 0.9885 - val_loss: 0.7993 - val_accuracy: 0.8133\n",
            "Epoch 46/50\n",
            "14/14 [==============================] - 9s 615ms/step - loss: 0.0659 - accuracy: 0.9771 - val_loss: 0.7741 - val_accuracy: 0.8000\n",
            "Epoch 47/50\n",
            "14/14 [==============================] - 9s 616ms/step - loss: 0.0633 - accuracy: 0.9756 - val_loss: 0.7824 - val_accuracy: 0.7867\n",
            "Epoch 48/50\n",
            "14/14 [==============================] - 9s 620ms/step - loss: 0.0517 - accuracy: 0.9809 - val_loss: 0.8049 - val_accuracy: 0.8133\n",
            "Epoch 49/50\n",
            "14/14 [==============================] - 9s 616ms/step - loss: 0.0627 - accuracy: 0.9771 - val_loss: 0.7845 - val_accuracy: 0.8133\n",
            "Epoch 50/50\n",
            "14/14 [==============================] - 9s 619ms/step - loss: 0.0499 - accuracy: 0.9886 - val_loss: 0.7332 - val_accuracy: 0.8267\n"
          ],
          "name": "stdout"
        }
      ]
    },
    {
      "cell_type": "code",
      "metadata": {
        "colab": {
          "base_uri": "https://localhost:8080/"
        },
        "id": "OZNS-3wQOR0g",
        "outputId": "c11f08e0-c510-424e-c4ca-d9bf47cd4d2f"
      },
      "source": [
        "sh=x_test\n",
        "score = model_m.evaluate(x_test, y_test, verbose=0)\n",
        "print('Test loss:', score[0])\n",
        "print('Test accuracy:', score[1])"
      ],
      "execution_count": null,
      "outputs": [
        {
          "output_type": "stream",
          "text": [
            "Test loss: 0.4567793607711792\n",
            "Test accuracy: 0.8655914068222046\n"
          ],
          "name": "stdout"
        }
      ]
    },
    {
      "cell_type": "code",
      "metadata": {
        "id": "5YVe7K1KWDek"
      },
      "source": [
        "# 0.85 when two 64 conv used"
      ],
      "execution_count": null,
      "outputs": []
    },
    {
      "cell_type": "code",
      "metadata": {
        "id": "W9QJ3T1UTsqg"
      },
      "source": [
        "\n",
        "import sklearn.metrics as metrics\n",
        "\n",
        "y_test_pred = model_m.predict(x_test)  \n",
        "y_test_pred_labels = np.argmax(y_test_pred, axis=1)  # only necessary if output has one-hot-encoding, shape=(n_samples)\n",
        "# print(y_test_pred_labels)\n",
        "y_test_labels = np.argmax(y_test, axis=1)\n",
        "# print(y_test_labels)\n",
        "confusion_matrix = metrics.confusion_matrix(y_true=y_test_labels, y_pred=y_test_pred_labels)"
      ],
      "execution_count": null,
      "outputs": []
    },
    {
      "cell_type": "code",
      "metadata": {
        "colab": {
          "base_uri": "https://localhost:8080/",
          "height": 293
        },
        "id": "Yckg6V0OP7hI",
        "outputId": "86f7828a-da1c-4e78-e9dd-7f67a4158a9b"
      },
      "source": [
        "import matplotlib.pyplot as plt\n",
        "import seaborn as sn\n",
        "df_cm = pd.DataFrame(confusion_matrix, range(4), range(4))\n",
        "# plt.figure(figsize=(10,7))\n",
        "sn.set(font_scale=1.4) # for label size\n",
        "sn.heatmap(df_cm, annot=True, annot_kws={\"size\": 16}, fmt='g') # font size\n",
        "\n",
        "plt.xlabel(\"Target Class\")\n",
        "plt.ylabel(\"Output Class\")\n",
        "\n",
        "plt.show()"
      ],
      "execution_count": null,
      "outputs": [
        {
          "output_type": "display_data",
          "data": {
            "image/png": "[encoded data removed]",
            "text/plain": [
              "<Figure size 432x288 with 2 Axes>"
            ]
          },
          "metadata": {
            "tags": [],
            "image/png": {
              "width": 383,
              "height": 276
            }
          }
        }
      ]
    },
    {
      "cell_type": "code",
      "metadata": {
        "id": "krcz_SyPciwF"
      },
      "source": [
        "import numpy as np\n",
        "import tensorflow as tf\n",
        "import tensorflow.keras.layers as keras\n",
        "\n",
        "# tf.enable_eager_execution()\n",
        "\n",
        "  \n",
        "def parameter_count():\n",
        "    total = 0\n",
        "    #for v in tf.trainable_variables():\n",
        "    for v in tf.Variable():\n",
        "        v_elements = 1\n",
        "        for dim in v.get_shape():\n",
        "            v_elements *= dim.value\n",
        "\n",
        "        total += v_elements\n",
        "    return total"
      ],
      "execution_count": null,
      "outputs": []
    },
    {
      "cell_type": "code",
      "metadata": {
        "id": "K4-Kj7xth9Sm"
      },
      "source": [
        "\n",
        "def combined_dataset(features, labels):\n",
        "    assert features.shape[0] == labels.shape[0]\n",
        "    dataset = tf.data.Dataset.from_tensor_slices(({'time_series': features}, labels))\n",
        "    return dataset\n",
        "\n",
        "def class_for_element(features, labels):\n",
        "    return labels\n",
        "\n",
        "# For training\n",
        "def train_input_fn():\n",
        "    print(\"I am here\")\n",
        "    dataset = combined_dataset(x_train, y_train)\n",
        "    print( x_train.shape )\n",
        "    return dataset.repeat().shuffle(5000).batch(50).prefetch(1)\n",
        "\n",
        "# For evaluation and metrics\n",
        "def eval_input_fn():\n",
        "    dataset = combined_dataset(x_test, y_test)\n",
        "    return dataset.batch(1000).prefetch(1)"
      ],
      "execution_count": null,
      "outputs": []
    },
    {
      "cell_type": "code",
      "metadata": {
        "id": "yWxLTMOEiFKs"
      },
      "source": [
        "\n",
        "\n",
        "def conv_unit(unit, input_layer):\n",
        "    s = '_' + str(unit)\n",
        "    layer = keras.Conv1D(name='Conv1' + s, filters=32, kernel_size=5, strides=1, padding='same', activation='relu')(input_layer)\n",
        "    layer = keras.Conv1D(name='Conv2' + s, filters=32, kernel_size=5, strides=1, padding='same', activation=None)(layer )\n",
        "    layer = keras.Add(name='ResidualSum' + s)([layer, input_layer])\n",
        "    layer = keras.Activation(\"relu\", name='Act' + s)(layer)\n",
        "    layer = keras.MaxPooling1D(name='MaxPool' + s, pool_size=5, strides=2)(layer)\n",
        "    return layer\n",
        "\n",
        "def cnn_model(input_layer, mode, params):\n",
        "    current_layer = keras.Conv1D(filters=32, kernel_size=5, strides=1)(input_layer)\n",
        "\n",
        "    for i in range(5):\n",
        "        current_layer = conv_unit(i + 1, current_layer)\n",
        "\n",
        "    current_layer = keras.Flatten()(current_layer)\n",
        "    current_layer = keras.Dense(32, name='FC1', activation='relu')(current_layer)\n",
        "    logits = keras.Dense(5, name='Output')(current_layer)\n",
        "    \n",
        "    print('Parameter count:', parameter_count())\n",
        "    return logits"
      ],
      "execution_count": null,
      "outputs": []
    },
    {
      "cell_type": "code",
      "metadata": {
        "id": "ODv4vafil6Bt"
      },
      "source": [
        "CNN_MODEL_DIR = './Models/CNN-P1'"
      ],
      "execution_count": null,
      "outputs": []
    },
    {
      "cell_type": "markdown",
      "metadata": {
        "id": "ARqE7v0nmKE8"
      },
      "source": [
        ""
      ]
    },
    {
      "cell_type": "code",
      "metadata": {
        "id": "hRdGvHRyiKfM"
      },
      "source": [
        "# Initial learning rate\n",
        "INITIAL_LEARNING_RATE = 0.001\n",
        "\n",
        "# Learning rate decay per LR_DECAY_STEPS steps (1.0 = no decay)\n",
        "LR_DECAY_RATE = 0.5\n",
        "\n",
        "# Number of steps for LR to decay by LR_DECAY_RATE\n",
        "LR_DECAY_STEPS = 4000\n",
        "\n",
        "# Threshold for gradient clipping\n",
        "GRADIENT_NORM_THRESH = 10.0\n",
        "\n",
        "# Select model to train\n",
        "MODEL_DIR = CNN_MODEL_DIR\n",
        "MODEL_FN = cnn_model\n",
        "\n",
        "def classifier_fn(features, labels, mode, params):\n",
        "    is_training = mode == tf.estimator.ModeKeys.TRAIN\n",
        "    #input_layer=tf.keras.layers.DenseFeatures(feature_columns=features)\n",
        "    input_layer = tf.compat.v1.feature_column.input_layer(features, params['feature_columns'])\n",
        "    input_layer = tf.expand_dims(input_layer, -1)\n",
        "\n",
        "    logits = MODEL_FN(input_layer, mode, params)\n",
        "\n",
        "    # For prediction, exit here\n",
        "    predicted_classes = tf.argmax(logits, 1)\n",
        "    if mode == tf.estimator.ModeKeys.PREDICT:\n",
        "        predictions = {\n",
        "            'class_ids': predicted_classes[:, tf.newaxis],\n",
        "            'probabilities': tf.nn.softmax(logits),\n",
        "            'logits': logits,\n",
        "        }\n",
        "        return tf.estimator.EstimatorSpec(mode, predictions=predictions)\n",
        "\n",
        "    # For training and evaluation, compute the loss (MSE)\n",
        "    loss = tf.losses.sparse_softmax_cross_entropy(labels=labels, logits=logits)\n",
        "\n",
        "    accuracy = tf.metrics.accuracy(labels=labels, predictions=predicted_classes, name='acc_op')\n",
        "    metrics = {'accuracy': accuracy}\n",
        "    tf.summary.scalar('accuracy', accuracy[1])\n",
        "\n",
        "    if mode == tf.estimator.ModeKeys.EVAL:\n",
        "        return tf.estimator.EstimatorSpec(mode, loss=loss, eval_metric_ops=metrics)\n",
        "\n",
        "    # For training...\n",
        "    global_step = tf.train.get_global_step()\n",
        "    learning_rate = tf.train.exponential_decay(INITIAL_LEARNING_RATE, global_step, LR_DECAY_STEPS, LR_DECAY_RATE)\n",
        "\n",
        "    optimizer = tf.train.AdamOptimizer(learning_rate=learning_rate)\n",
        "    #optimizer = tf.contrib.estimator.clip_gradients_by_norm(optimizer, GRADIENT_NORM_THRESH)\n",
        "    \n",
        "    train_op = optimizer.minimize(loss, global_step=tf.train.get_global_step())\n",
        "    return tf.estimator.EstimatorSpec(mode, loss=loss, train_op=train_op)\n"
      ],
      "execution_count": null,
      "outputs": []
    },
    {
      "cell_type": "code",
      "metadata": {
        "id": "gTlrASB7iMnw",
        "colab": {
          "base_uri": "https://localhost:8080/",
          "height": 599
        },
        "outputId": "bce45161-8bf4-4f22-a11f-b11c90dc85cf"
      },
      "source": [
        "feature_columns = [tf.feature_column.numeric_column('time_series', [187])]\n",
        "\n",
        "estimator = tf.compat.v1.estimator.Estimator(\n",
        "    model_fn=classifier_fn,\n",
        "    model_dir=MODEL_DIR,\n",
        "    params={\n",
        "        'feature_columns': feature_columns,\n",
        "    })\n",
        "\n",
        "estimator.train(train_input_fn, steps=4000)\n",
        "info = estimator.evaluate(input_fn=eval_input_fn)"
      ],
      "execution_count": null,
      "outputs": [
        {
          "output_type": "stream",
          "text": [
            "INFO:tensorflow:Using default config.\n",
            "INFO:tensorflow:Using config: {'_model_dir': './Models/CNN-P1', '_tf_random_seed': None, '_save_summary_steps': 100, '_save_checkpoints_steps': None, '_save_checkpoints_secs': 600, '_session_config': allow_soft_placement: true\n",
            "graph_options {\n",
            "  rewrite_options {\n",
            "    meta_optimizer_iterations: ONE\n",
            "  }\n",
            "}\n",
            ", '_keep_checkpoint_max': 5, '_keep_checkpoint_every_n_hours': 10000, '_log_step_count_steps': 100, '_train_distribute': None, '_device_fn': None, '_protocol': None, '_eval_distribute': None, '_experimental_distribute': None, '_experimental_max_worker_delay_secs': None, '_session_creation_timeout_secs': 7200, '_checkpoint_save_graph_def': True, '_service': None, '_cluster_spec': ClusterSpec({}), '_task_type': 'worker', '_task_id': 0, '_global_id_in_cluster': 0, '_master': '', '_evaluation_master': '', '_is_chief': True, '_num_ps_replicas': 0, '_num_worker_replicas': 1}\n",
            "I am here\n",
            "(742, 1980)\n",
            "INFO:tensorflow:Calling model_fn.\n"
          ],
          "name": "stdout"
        },
        {
          "output_type": "error",
          "ename": "ValueError",
          "evalue": "ignored",
          "traceback": [
            "\u001b[0;31m---------------------------------------------------------------------------\u001b[0m",
            "\u001b[0;31mValueError\u001b[0m                                Traceback (most recent call last)",
            "\u001b[0;32m<ipython-input-147-bbd015fa12fc>\u001b[0m in \u001b[0;36m<module>\u001b[0;34m()\u001b[0m\n\u001b[1;32m      8\u001b[0m     })\n\u001b[1;32m      9\u001b[0m \u001b[0;34m\u001b[0m\u001b[0m\n\u001b[0;32m---> 10\u001b[0;31m \u001b[0mestimator\u001b[0m\u001b[0;34m.\u001b[0m\u001b[0mtrain\u001b[0m\u001b[0;34m(\u001b[0m\u001b[0mtrain_input_fn\u001b[0m\u001b[0;34m,\u001b[0m \u001b[0msteps\u001b[0m\u001b[0;34m=\u001b[0m\u001b[0;36m4000\u001b[0m\u001b[0;34m)\u001b[0m\u001b[0;34m\u001b[0m\u001b[0;34m\u001b[0m\u001b[0m\n\u001b[0m\u001b[1;32m     11\u001b[0m \u001b[0minfo\u001b[0m \u001b[0;34m=\u001b[0m \u001b[0mestimator\u001b[0m\u001b[0;34m.\u001b[0m\u001b[0mevaluate\u001b[0m\u001b[0;34m(\u001b[0m\u001b[0minput_fn\u001b[0m\u001b[0;34m=\u001b[0m\u001b[0meval_input_fn\u001b[0m\u001b[0;34m)\u001b[0m\u001b[0;34m\u001b[0m\u001b[0;34m\u001b[0m\u001b[0m\n",
            "\u001b[0;32m/usr/local/lib/python3.7/dist-packages/tensorflow_estimator/python/estimator/estimator.py\u001b[0m in \u001b[0;36mtrain\u001b[0;34m(self, input_fn, hooks, steps, max_steps, saving_listeners)\u001b[0m\n\u001b[1;32m    347\u001b[0m \u001b[0;34m\u001b[0m\u001b[0m\n\u001b[1;32m    348\u001b[0m       \u001b[0msaving_listeners\u001b[0m \u001b[0;34m=\u001b[0m \u001b[0m_check_listeners_type\u001b[0m\u001b[0;34m(\u001b[0m\u001b[0msaving_listeners\u001b[0m\u001b[0;34m)\u001b[0m\u001b[0;34m\u001b[0m\u001b[0;34m\u001b[0m\u001b[0m\n\u001b[0;32m--> 349\u001b[0;31m       \u001b[0mloss\u001b[0m \u001b[0;34m=\u001b[0m \u001b[0mself\u001b[0m\u001b[0;34m.\u001b[0m\u001b[0m_train_model\u001b[0m\u001b[0;34m(\u001b[0m\u001b[0minput_fn\u001b[0m\u001b[0;34m,\u001b[0m \u001b[0mhooks\u001b[0m\u001b[0;34m,\u001b[0m \u001b[0msaving_listeners\u001b[0m\u001b[0;34m)\u001b[0m\u001b[0;34m\u001b[0m\u001b[0;34m\u001b[0m\u001b[0m\n\u001b[0m\u001b[1;32m    350\u001b[0m       \u001b[0mlogging\u001b[0m\u001b[0;34m.\u001b[0m\u001b[0minfo\u001b[0m\u001b[0;34m(\u001b[0m\u001b[0;34m'Loss for final step: %s.'\u001b[0m\u001b[0;34m,\u001b[0m \u001b[0mloss\u001b[0m\u001b[0;34m)\u001b[0m\u001b[0;34m\u001b[0m\u001b[0;34m\u001b[0m\u001b[0m\n\u001b[1;32m    351\u001b[0m       \u001b[0;32mreturn\u001b[0m \u001b[0mself\u001b[0m\u001b[0;34m\u001b[0m\u001b[0;34m\u001b[0m\u001b[0m\n",
            "\u001b[0;32m/usr/local/lib/python3.7/dist-packages/tensorflow_estimator/python/estimator/estimator.py\u001b[0m in \u001b[0;36m_train_model\u001b[0;34m(self, input_fn, hooks, saving_listeners)\u001b[0m\n\u001b[1;32m   1173\u001b[0m       \u001b[0;32mreturn\u001b[0m \u001b[0mself\u001b[0m\u001b[0;34m.\u001b[0m\u001b[0m_train_model_distributed\u001b[0m\u001b[0;34m(\u001b[0m\u001b[0minput_fn\u001b[0m\u001b[0;34m,\u001b[0m \u001b[0mhooks\u001b[0m\u001b[0;34m,\u001b[0m \u001b[0msaving_listeners\u001b[0m\u001b[0;34m)\u001b[0m\u001b[0;34m\u001b[0m\u001b[0;34m\u001b[0m\u001b[0m\n\u001b[1;32m   1174\u001b[0m     \u001b[0;32melse\u001b[0m\u001b[0;34m:\u001b[0m\u001b[0;34m\u001b[0m\u001b[0;34m\u001b[0m\u001b[0m\n\u001b[0;32m-> 1175\u001b[0;31m       \u001b[0;32mreturn\u001b[0m \u001b[0mself\u001b[0m\u001b[0;34m.\u001b[0m\u001b[0m_train_model_default\u001b[0m\u001b[0;34m(\u001b[0m\u001b[0minput_fn\u001b[0m\u001b[0;34m,\u001b[0m \u001b[0mhooks\u001b[0m\u001b[0;34m,\u001b[0m \u001b[0msaving_listeners\u001b[0m\u001b[0;34m)\u001b[0m\u001b[0;34m\u001b[0m\u001b[0;34m\u001b[0m\u001b[0m\n\u001b[0m\u001b[1;32m   1176\u001b[0m \u001b[0;34m\u001b[0m\u001b[0m\n\u001b[1;32m   1177\u001b[0m   \u001b[0;32mdef\u001b[0m \u001b[0m_train_model_default\u001b[0m\u001b[0;34m(\u001b[0m\u001b[0mself\u001b[0m\u001b[0;34m,\u001b[0m \u001b[0minput_fn\u001b[0m\u001b[0;34m,\u001b[0m \u001b[0mhooks\u001b[0m\u001b[0;34m,\u001b[0m \u001b[0msaving_listeners\u001b[0m\u001b[0;34m)\u001b[0m\u001b[0;34m:\u001b[0m\u001b[0;34m\u001b[0m\u001b[0;34m\u001b[0m\u001b[0m\n",
            "\u001b[0;32m/usr/local/lib/python3.7/dist-packages/tensorflow_estimator/python/estimator/estimator.py\u001b[0m in \u001b[0;36m_train_model_default\u001b[0;34m(self, input_fn, hooks, saving_listeners)\u001b[0m\n\u001b[1;32m   1202\u001b[0m       \u001b[0mworker_hooks\u001b[0m\u001b[0;34m.\u001b[0m\u001b[0mextend\u001b[0m\u001b[0;34m(\u001b[0m\u001b[0minput_hooks\u001b[0m\u001b[0;34m)\u001b[0m\u001b[0;34m\u001b[0m\u001b[0;34m\u001b[0m\u001b[0m\n\u001b[1;32m   1203\u001b[0m       estimator_spec = self._call_model_fn(features, labels, ModeKeys.TRAIN,\n\u001b[0;32m-> 1204\u001b[0;31m                                            self.config)\n\u001b[0m\u001b[1;32m   1205\u001b[0m       \u001b[0mglobal_step_tensor\u001b[0m \u001b[0;34m=\u001b[0m \u001b[0mtf\u001b[0m\u001b[0;34m.\u001b[0m\u001b[0mcompat\u001b[0m\u001b[0;34m.\u001b[0m\u001b[0mv1\u001b[0m\u001b[0;34m.\u001b[0m\u001b[0mtrain\u001b[0m\u001b[0;34m.\u001b[0m\u001b[0mget_global_step\u001b[0m\u001b[0;34m(\u001b[0m\u001b[0mg\u001b[0m\u001b[0;34m)\u001b[0m\u001b[0;34m\u001b[0m\u001b[0;34m\u001b[0m\u001b[0m\n\u001b[1;32m   1206\u001b[0m       return self._train_with_estimator_spec(estimator_spec, worker_hooks,\n",
            "\u001b[0;32m/usr/local/lib/python3.7/dist-packages/tensorflow_estimator/python/estimator/estimator.py\u001b[0m in \u001b[0;36m_call_model_fn\u001b[0;34m(self, features, labels, mode, config)\u001b[0m\n\u001b[1;32m   1161\u001b[0m \u001b[0;34m\u001b[0m\u001b[0m\n\u001b[1;32m   1162\u001b[0m     \u001b[0mlogging\u001b[0m\u001b[0;34m.\u001b[0m\u001b[0minfo\u001b[0m\u001b[0;34m(\u001b[0m\u001b[0;34m'Calling model_fn.'\u001b[0m\u001b[0;34m)\u001b[0m\u001b[0;34m\u001b[0m\u001b[0;34m\u001b[0m\u001b[0m\n\u001b[0;32m-> 1163\u001b[0;31m     \u001b[0mmodel_fn_results\u001b[0m \u001b[0;34m=\u001b[0m \u001b[0mself\u001b[0m\u001b[0;34m.\u001b[0m\u001b[0m_model_fn\u001b[0m\u001b[0;34m(\u001b[0m\u001b[0mfeatures\u001b[0m\u001b[0;34m=\u001b[0m\u001b[0mfeatures\u001b[0m\u001b[0;34m,\u001b[0m \u001b[0;34m**\u001b[0m\u001b[0mkwargs\u001b[0m\u001b[0;34m)\u001b[0m\u001b[0;34m\u001b[0m\u001b[0;34m\u001b[0m\u001b[0m\n\u001b[0m\u001b[1;32m   1164\u001b[0m     \u001b[0mlogging\u001b[0m\u001b[0;34m.\u001b[0m\u001b[0minfo\u001b[0m\u001b[0;34m(\u001b[0m\u001b[0;34m'Done calling model_fn.'\u001b[0m\u001b[0;34m)\u001b[0m\u001b[0;34m\u001b[0m\u001b[0;34m\u001b[0m\u001b[0m\n\u001b[1;32m   1165\u001b[0m \u001b[0;34m\u001b[0m\u001b[0m\n",
            "\u001b[0;32m<ipython-input-144-6a50a43dea33>\u001b[0m in \u001b[0;36mclassifier_fn\u001b[0;34m(features, labels, mode, params)\u001b[0m\n\u001b[1;32m     21\u001b[0m     \u001b[0minput_layer\u001b[0m \u001b[0;34m=\u001b[0m \u001b[0mtf\u001b[0m\u001b[0;34m.\u001b[0m\u001b[0mexpand_dims\u001b[0m\u001b[0;34m(\u001b[0m\u001b[0minput_layer\u001b[0m\u001b[0;34m,\u001b[0m \u001b[0;34m-\u001b[0m\u001b[0;36m1\u001b[0m\u001b[0;34m)\u001b[0m\u001b[0;34m\u001b[0m\u001b[0;34m\u001b[0m\u001b[0m\n\u001b[1;32m     22\u001b[0m \u001b[0;34m\u001b[0m\u001b[0m\n\u001b[0;32m---> 23\u001b[0;31m     \u001b[0mlogits\u001b[0m \u001b[0;34m=\u001b[0m \u001b[0mMODEL_FN\u001b[0m\u001b[0;34m(\u001b[0m\u001b[0minput_layer\u001b[0m\u001b[0;34m,\u001b[0m \u001b[0mmode\u001b[0m\u001b[0;34m,\u001b[0m \u001b[0mparams\u001b[0m\u001b[0;34m)\u001b[0m\u001b[0;34m\u001b[0m\u001b[0;34m\u001b[0m\u001b[0m\n\u001b[0m\u001b[1;32m     24\u001b[0m \u001b[0;34m\u001b[0m\u001b[0m\n\u001b[1;32m     25\u001b[0m     \u001b[0;31m# For prediction, exit here\u001b[0m\u001b[0;34m\u001b[0m\u001b[0;34m\u001b[0m\u001b[0;34m\u001b[0m\u001b[0m\n",
            "\u001b[0;32m<ipython-input-142-097b7344958d>\u001b[0m in \u001b[0;36mcnn_model\u001b[0;34m(input_layer, mode, params)\u001b[0m\n\u001b[1;32m     20\u001b[0m     \u001b[0mlogits\u001b[0m \u001b[0;34m=\u001b[0m \u001b[0mkeras\u001b[0m\u001b[0;34m.\u001b[0m\u001b[0mDense\u001b[0m\u001b[0;34m(\u001b[0m\u001b[0;36m5\u001b[0m\u001b[0;34m,\u001b[0m \u001b[0mname\u001b[0m\u001b[0;34m=\u001b[0m\u001b[0;34m'Output'\u001b[0m\u001b[0;34m)\u001b[0m\u001b[0;34m(\u001b[0m\u001b[0mcurrent_layer\u001b[0m\u001b[0;34m)\u001b[0m\u001b[0;34m\u001b[0m\u001b[0;34m\u001b[0m\u001b[0m\n\u001b[1;32m     21\u001b[0m \u001b[0;34m\u001b[0m\u001b[0m\n\u001b[0;32m---> 22\u001b[0;31m     \u001b[0mprint\u001b[0m\u001b[0;34m(\u001b[0m\u001b[0;34m'Parameter count:'\u001b[0m\u001b[0;34m,\u001b[0m \u001b[0mparameter_count\u001b[0m\u001b[0;34m(\u001b[0m\u001b[0;34m)\u001b[0m\u001b[0;34m)\u001b[0m\u001b[0;34m\u001b[0m\u001b[0;34m\u001b[0m\u001b[0m\n\u001b[0m\u001b[1;32m     23\u001b[0m     \u001b[0;32mreturn\u001b[0m \u001b[0mlogits\u001b[0m\u001b[0;34m\u001b[0m\u001b[0;34m\u001b[0m\u001b[0m\n",
            "\u001b[0;32m<ipython-input-140-76b5b5965783>\u001b[0m in \u001b[0;36mparameter_count\u001b[0;34m()\u001b[0m\n\u001b[1;32m      9\u001b[0m     \u001b[0mtotal\u001b[0m \u001b[0;34m=\u001b[0m \u001b[0;36m0\u001b[0m\u001b[0;34m\u001b[0m\u001b[0;34m\u001b[0m\u001b[0m\n\u001b[1;32m     10\u001b[0m     \u001b[0;31m#for v in tf.trainable_variables():\u001b[0m\u001b[0;34m\u001b[0m\u001b[0;34m\u001b[0m\u001b[0;34m\u001b[0m\u001b[0m\n\u001b[0;32m---> 11\u001b[0;31m     \u001b[0;32mfor\u001b[0m \u001b[0mv\u001b[0m \u001b[0;32min\u001b[0m \u001b[0mtf\u001b[0m\u001b[0;34m.\u001b[0m\u001b[0mVariable\u001b[0m\u001b[0;34m(\u001b[0m\u001b[0;34m)\u001b[0m\u001b[0;34m:\u001b[0m\u001b[0;34m\u001b[0m\u001b[0;34m\u001b[0m\u001b[0m\n\u001b[0m\u001b[1;32m     12\u001b[0m         \u001b[0mv_elements\u001b[0m \u001b[0;34m=\u001b[0m \u001b[0;36m1\u001b[0m\u001b[0;34m\u001b[0m\u001b[0;34m\u001b[0m\u001b[0m\n\u001b[1;32m     13\u001b[0m         \u001b[0;32mfor\u001b[0m \u001b[0mdim\u001b[0m \u001b[0;32min\u001b[0m \u001b[0mv\u001b[0m\u001b[0;34m.\u001b[0m\u001b[0mget_shape\u001b[0m\u001b[0;34m(\u001b[0m\u001b[0;34m)\u001b[0m\u001b[0;34m:\u001b[0m\u001b[0;34m\u001b[0m\u001b[0;34m\u001b[0m\u001b[0m\n",
            "\u001b[0;32m/usr/local/lib/python3.7/dist-packages/tensorflow/python/ops/variables.py\u001b[0m in \u001b[0;36m__call__\u001b[0;34m(cls, *args, **kwargs)\u001b[0m\n\u001b[1;32m    260\u001b[0m       \u001b[0;32mreturn\u001b[0m \u001b[0mcls\u001b[0m\u001b[0;34m.\u001b[0m\u001b[0m_variable_v1_call\u001b[0m\u001b[0;34m(\u001b[0m\u001b[0;34m*\u001b[0m\u001b[0margs\u001b[0m\u001b[0;34m,\u001b[0m \u001b[0;34m**\u001b[0m\u001b[0mkwargs\u001b[0m\u001b[0;34m)\u001b[0m\u001b[0;34m\u001b[0m\u001b[0;34m\u001b[0m\u001b[0m\n\u001b[1;32m    261\u001b[0m     \u001b[0;32melif\u001b[0m \u001b[0mcls\u001b[0m \u001b[0;32mis\u001b[0m \u001b[0mVariable\u001b[0m\u001b[0;34m:\u001b[0m\u001b[0;34m\u001b[0m\u001b[0;34m\u001b[0m\u001b[0m\n\u001b[0;32m--> 262\u001b[0;31m       \u001b[0;32mreturn\u001b[0m \u001b[0mcls\u001b[0m\u001b[0;34m.\u001b[0m\u001b[0m_variable_v2_call\u001b[0m\u001b[0;34m(\u001b[0m\u001b[0;34m*\u001b[0m\u001b[0margs\u001b[0m\u001b[0;34m,\u001b[0m \u001b[0;34m**\u001b[0m\u001b[0mkwargs\u001b[0m\u001b[0;34m)\u001b[0m\u001b[0;34m\u001b[0m\u001b[0;34m\u001b[0m\u001b[0m\n\u001b[0m\u001b[1;32m    263\u001b[0m     \u001b[0;32melse\u001b[0m\u001b[0;34m:\u001b[0m\u001b[0;34m\u001b[0m\u001b[0;34m\u001b[0m\u001b[0m\n\u001b[1;32m    264\u001b[0m       \u001b[0;32mreturn\u001b[0m \u001b[0msuper\u001b[0m\u001b[0;34m(\u001b[0m\u001b[0mVariableMetaclass\u001b[0m\u001b[0;34m,\u001b[0m \u001b[0mcls\u001b[0m\u001b[0;34m)\u001b[0m\u001b[0;34m.\u001b[0m\u001b[0m__call__\u001b[0m\u001b[0;34m(\u001b[0m\u001b[0;34m*\u001b[0m\u001b[0margs\u001b[0m\u001b[0;34m,\u001b[0m \u001b[0;34m**\u001b[0m\u001b[0mkwargs\u001b[0m\u001b[0;34m)\u001b[0m\u001b[0;34m\u001b[0m\u001b[0;34m\u001b[0m\u001b[0m\n",
            "\u001b[0;32m/usr/local/lib/python3.7/dist-packages/tensorflow/python/ops/variables.py\u001b[0m in \u001b[0;36m_variable_v2_call\u001b[0;34m(cls, initial_value, trainable, validate_shape, caching_device, name, variable_def, dtype, import_scope, constraint, synchronization, aggregation, shape)\u001b[0m\n\u001b[1;32m    254\u001b[0m         \u001b[0msynchronization\u001b[0m\u001b[0;34m=\u001b[0m\u001b[0msynchronization\u001b[0m\u001b[0;34m,\u001b[0m\u001b[0;34m\u001b[0m\u001b[0;34m\u001b[0m\u001b[0m\n\u001b[1;32m    255\u001b[0m         \u001b[0maggregation\u001b[0m\u001b[0;34m=\u001b[0m\u001b[0maggregation\u001b[0m\u001b[0;34m,\u001b[0m\u001b[0;34m\u001b[0m\u001b[0;34m\u001b[0m\u001b[0m\n\u001b[0;32m--> 256\u001b[0;31m         shape=shape)\n\u001b[0m\u001b[1;32m    257\u001b[0m \u001b[0;34m\u001b[0m\u001b[0m\n\u001b[1;32m    258\u001b[0m   \u001b[0;32mdef\u001b[0m \u001b[0m__call__\u001b[0m\u001b[0;34m(\u001b[0m\u001b[0mcls\u001b[0m\u001b[0;34m,\u001b[0m \u001b[0;34m*\u001b[0m\u001b[0margs\u001b[0m\u001b[0;34m,\u001b[0m \u001b[0;34m**\u001b[0m\u001b[0mkwargs\u001b[0m\u001b[0;34m)\u001b[0m\u001b[0;34m:\u001b[0m\u001b[0;34m\u001b[0m\u001b[0;34m\u001b[0m\u001b[0m\n",
            "\u001b[0;32m/usr/local/lib/python3.7/dist-packages/tensorflow/python/ops/variables.py\u001b[0m in \u001b[0;36m<lambda>\u001b[0;34m(**kws)\u001b[0m\n\u001b[1;32m    235\u001b[0m                         shape=None):\n\u001b[1;32m    236\u001b[0m     \u001b[0;34m\"\"\"Call on Variable class. Useful to force the signature.\"\"\"\u001b[0m\u001b[0;34m\u001b[0m\u001b[0;34m\u001b[0m\u001b[0m\n\u001b[0;32m--> 237\u001b[0;31m     \u001b[0mprevious_getter\u001b[0m \u001b[0;34m=\u001b[0m \u001b[0;32mlambda\u001b[0m \u001b[0;34m**\u001b[0m\u001b[0mkws\u001b[0m\u001b[0;34m:\u001b[0m \u001b[0mdefault_variable_creator_v2\u001b[0m\u001b[0;34m(\u001b[0m\u001b[0;32mNone\u001b[0m\u001b[0;34m,\u001b[0m \u001b[0;34m**\u001b[0m\u001b[0mkws\u001b[0m\u001b[0;34m)\u001b[0m\u001b[0;34m\u001b[0m\u001b[0;34m\u001b[0m\u001b[0m\n\u001b[0m\u001b[1;32m    238\u001b[0m     \u001b[0;32mfor\u001b[0m \u001b[0m_\u001b[0m\u001b[0;34m,\u001b[0m \u001b[0mgetter\u001b[0m \u001b[0;32min\u001b[0m \u001b[0mops\u001b[0m\u001b[0;34m.\u001b[0m\u001b[0mget_default_graph\u001b[0m\u001b[0;34m(\u001b[0m\u001b[0;34m)\u001b[0m\u001b[0;34m.\u001b[0m\u001b[0m_variable_creator_stack\u001b[0m\u001b[0;34m:\u001b[0m  \u001b[0;31m# pylint: disable=protected-access\u001b[0m\u001b[0;34m\u001b[0m\u001b[0;34m\u001b[0m\u001b[0m\n\u001b[1;32m    239\u001b[0m       \u001b[0mprevious_getter\u001b[0m \u001b[0;34m=\u001b[0m \u001b[0m_make_getter\u001b[0m\u001b[0;34m(\u001b[0m\u001b[0mgetter\u001b[0m\u001b[0;34m,\u001b[0m \u001b[0mprevious_getter\u001b[0m\u001b[0;34m)\u001b[0m\u001b[0;34m\u001b[0m\u001b[0;34m\u001b[0m\u001b[0m\n",
            "\u001b[0;32m/usr/local/lib/python3.7/dist-packages/tensorflow/python/ops/variable_scope.py\u001b[0m in \u001b[0;36mdefault_variable_creator_v2\u001b[0;34m(next_creator, **kwargs)\u001b[0m\n\u001b[1;32m   2665\u001b[0m       \u001b[0msynchronization\u001b[0m\u001b[0;34m=\u001b[0m\u001b[0msynchronization\u001b[0m\u001b[0;34m,\u001b[0m\u001b[0;34m\u001b[0m\u001b[0;34m\u001b[0m\u001b[0m\n\u001b[1;32m   2666\u001b[0m       \u001b[0maggregation\u001b[0m\u001b[0;34m=\u001b[0m\u001b[0maggregation\u001b[0m\u001b[0;34m,\u001b[0m\u001b[0;34m\u001b[0m\u001b[0;34m\u001b[0m\u001b[0m\n\u001b[0;32m-> 2667\u001b[0;31m       shape=shape)\n\u001b[0m\u001b[1;32m   2668\u001b[0m \u001b[0;34m\u001b[0m\u001b[0m\n\u001b[1;32m   2669\u001b[0m \u001b[0;34m\u001b[0m\u001b[0m\n",
            "\u001b[0;32m/usr/local/lib/python3.7/dist-packages/tensorflow/python/ops/variables.py\u001b[0m in \u001b[0;36m__call__\u001b[0;34m(cls, *args, **kwargs)\u001b[0m\n\u001b[1;32m    262\u001b[0m       \u001b[0;32mreturn\u001b[0m \u001b[0mcls\u001b[0m\u001b[0;34m.\u001b[0m\u001b[0m_variable_v2_call\u001b[0m\u001b[0;34m(\u001b[0m\u001b[0;34m*\u001b[0m\u001b[0margs\u001b[0m\u001b[0;34m,\u001b[0m \u001b[0;34m**\u001b[0m\u001b[0mkwargs\u001b[0m\u001b[0;34m)\u001b[0m\u001b[0;34m\u001b[0m\u001b[0;34m\u001b[0m\u001b[0m\n\u001b[1;32m    263\u001b[0m     \u001b[0;32melse\u001b[0m\u001b[0;34m:\u001b[0m\u001b[0;34m\u001b[0m\u001b[0;34m\u001b[0m\u001b[0m\n\u001b[0;32m--> 264\u001b[0;31m       \u001b[0;32mreturn\u001b[0m \u001b[0msuper\u001b[0m\u001b[0;34m(\u001b[0m\u001b[0mVariableMetaclass\u001b[0m\u001b[0;34m,\u001b[0m \u001b[0mcls\u001b[0m\u001b[0;34m)\u001b[0m\u001b[0;34m.\u001b[0m\u001b[0m__call__\u001b[0m\u001b[0;34m(\u001b[0m\u001b[0;34m*\u001b[0m\u001b[0margs\u001b[0m\u001b[0;34m,\u001b[0m \u001b[0;34m**\u001b[0m\u001b[0mkwargs\u001b[0m\u001b[0;34m)\u001b[0m\u001b[0;34m\u001b[0m\u001b[0;34m\u001b[0m\u001b[0m\n\u001b[0m\u001b[1;32m    265\u001b[0m \u001b[0;34m\u001b[0m\u001b[0m\n\u001b[1;32m    266\u001b[0m \u001b[0;34m\u001b[0m\u001b[0m\n",
            "\u001b[0;32m/usr/local/lib/python3.7/dist-packages/tensorflow/python/ops/resource_variable_ops.py\u001b[0m in \u001b[0;36m__init__\u001b[0;34m(self, initial_value, trainable, collections, validate_shape, caching_device, name, dtype, variable_def, import_scope, constraint, distribute_strategy, synchronization, aggregation, shape)\u001b[0m\n\u001b[1;32m   1583\u001b[0m           \u001b[0maggregation\u001b[0m\u001b[0;34m=\u001b[0m\u001b[0maggregation\u001b[0m\u001b[0;34m,\u001b[0m\u001b[0;34m\u001b[0m\u001b[0;34m\u001b[0m\u001b[0m\n\u001b[1;32m   1584\u001b[0m           \u001b[0mshape\u001b[0m\u001b[0;34m=\u001b[0m\u001b[0mshape\u001b[0m\u001b[0;34m,\u001b[0m\u001b[0;34m\u001b[0m\u001b[0;34m\u001b[0m\u001b[0m\n\u001b[0;32m-> 1585\u001b[0;31m           distribute_strategy=distribute_strategy)\n\u001b[0m\u001b[1;32m   1586\u001b[0m \u001b[0;34m\u001b[0m\u001b[0m\n\u001b[1;32m   1587\u001b[0m   def _init_from_args(self,\n",
            "\u001b[0;32m/usr/local/lib/python3.7/dist-packages/tensorflow/python/ops/resource_variable_ops.py\u001b[0m in \u001b[0;36m_init_from_args\u001b[0;34m(self, initial_value, trainable, collections, caching_device, name, dtype, constraint, synchronization, aggregation, distribute_strategy, shape)\u001b[0m\n\u001b[1;32m   1660\u001b[0m             synchronization, aggregation, trainable, name))\n\u001b[1;32m   1661\u001b[0m     \u001b[0;32mif\u001b[0m \u001b[0minitial_value\u001b[0m \u001b[0;32mis\u001b[0m \u001b[0;32mNone\u001b[0m\u001b[0;34m:\u001b[0m\u001b[0;34m\u001b[0m\u001b[0;34m\u001b[0m\u001b[0m\n\u001b[0;32m-> 1662\u001b[0;31m       \u001b[0;32mraise\u001b[0m \u001b[0mValueError\u001b[0m\u001b[0;34m(\u001b[0m\u001b[0;34m\"initial_value must be specified.\"\u001b[0m\u001b[0;34m)\u001b[0m\u001b[0;34m\u001b[0m\u001b[0;34m\u001b[0m\u001b[0m\n\u001b[0m\u001b[1;32m   1663\u001b[0m     \u001b[0minit_from_fn\u001b[0m \u001b[0;34m=\u001b[0m \u001b[0mcallable\u001b[0m\u001b[0;34m(\u001b[0m\u001b[0minitial_value\u001b[0m\u001b[0;34m)\u001b[0m\u001b[0;34m\u001b[0m\u001b[0;34m\u001b[0m\u001b[0m\n\u001b[1;32m   1664\u001b[0m \u001b[0;34m\u001b[0m\u001b[0m\n",
            "\u001b[0;31mValueError\u001b[0m: initial_value must be specified."
          ]
        }
      ]
    },
    {
      "cell_type": "code",
      "metadata": {
        "id": "usNMpUTQs3E9"
      },
      "source": [
        ""
      ],
      "execution_count": null,
      "outputs": []
    }
  ]
}